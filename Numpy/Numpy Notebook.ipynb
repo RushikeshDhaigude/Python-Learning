{
 "cells": [
  {
   "cell_type": "markdown",
   "id": "cf75df97",
   "metadata": {},
   "source": [
    "# Numpy Tutorial"
   ]
  },
  {
   "cell_type": "code",
   "execution_count": 1,
   "id": "10bb2e53",
   "metadata": {},
   "outputs": [],
   "source": [
    "import numpy as np\n",
    "import seaborn as sns"
   ]
  },
  {
   "cell_type": "markdown",
   "id": "48796cdf",
   "metadata": {},
   "source": [
    "### np.array()"
   ]
  },
  {
   "cell_type": "code",
   "execution_count": 2,
   "id": "b23b17e5",
   "metadata": {},
   "outputs": [
    {
     "data": {
      "text/plain": [
       "array([4, 7, 3, 2, 6, 8, 3])"
      ]
     },
     "execution_count": 2,
     "metadata": {},
     "output_type": "execute_result"
    }
   ],
   "source": [
    "## Define 1D array\n",
    "a1 = np.array([4,7,3,2,6,8,3])\n",
    "a1"
   ]
  },
  {
   "cell_type": "code",
   "execution_count": 3,
   "id": "e72d2427",
   "metadata": {},
   "outputs": [
    {
     "data": {
      "text/plain": [
       "7"
      ]
     },
     "execution_count": 3,
     "metadata": {},
     "output_type": "execute_result"
    }
   ],
   "source": [
    "## Count no of elements in array\n",
    "a1.size"
   ]
  },
  {
   "cell_type": "code",
   "execution_count": 4,
   "id": "b64ca132",
   "metadata": {},
   "outputs": [
    {
     "data": {
      "text/plain": [
       "(7,)"
      ]
     },
     "execution_count": 4,
     "metadata": {},
     "output_type": "execute_result"
    }
   ],
   "source": [
    "## Check shape of array\n",
    "a1.shape"
   ]
  },
  {
   "cell_type": "code",
   "execution_count": 5,
   "id": "0628291c",
   "metadata": {},
   "outputs": [
    {
     "data": {
      "text/plain": [
       "1"
      ]
     },
     "execution_count": 5,
     "metadata": {},
     "output_type": "execute_result"
    }
   ],
   "source": [
    "## Check dimension of array\n",
    "a1.ndim"
   ]
  },
  {
   "cell_type": "code",
   "execution_count": 6,
   "id": "6bbedca2",
   "metadata": {},
   "outputs": [
    {
     "data": {
      "text/plain": [
       "numpy.ndarray"
      ]
     },
     "execution_count": 6,
     "metadata": {},
     "output_type": "execute_result"
    }
   ],
   "source": [
    "type(a1)"
   ]
  },
  {
   "cell_type": "code",
   "execution_count": 7,
   "id": "97a17495",
   "metadata": {},
   "outputs": [
    {
     "data": {
      "text/plain": [
       "array([[3, 5, 4],\n",
       "       [7, 8, 6]])"
      ]
     },
     "execution_count": 7,
     "metadata": {},
     "output_type": "execute_result"
    }
   ],
   "source": [
    "## Define 2D array\n",
    "a2 = np.array([[3,5,4],[7,8,6]])\n",
    "a2"
   ]
  },
  {
   "cell_type": "code",
   "execution_count": 8,
   "id": "f5ea9979",
   "metadata": {},
   "outputs": [
    {
     "data": {
      "text/plain": [
       "6"
      ]
     },
     "execution_count": 8,
     "metadata": {},
     "output_type": "execute_result"
    }
   ],
   "source": [
    "## Count no of elements in array\n",
    "a2.size"
   ]
  },
  {
   "cell_type": "code",
   "execution_count": 9,
   "id": "aff55154",
   "metadata": {},
   "outputs": [
    {
     "data": {
      "text/plain": [
       "(2, 3)"
      ]
     },
     "execution_count": 9,
     "metadata": {},
     "output_type": "execute_result"
    }
   ],
   "source": [
    "## Check shape of array\n",
    "a2.shape"
   ]
  },
  {
   "cell_type": "code",
   "execution_count": 10,
   "id": "ad3ddb89",
   "metadata": {},
   "outputs": [
    {
     "data": {
      "text/plain": [
       "2"
      ]
     },
     "execution_count": 10,
     "metadata": {},
     "output_type": "execute_result"
    }
   ],
   "source": [
    "## Check dimension of array\n",
    "a2.ndim"
   ]
  },
  {
   "cell_type": "code",
   "execution_count": 11,
   "id": "250c3bf5",
   "metadata": {},
   "outputs": [
    {
     "data": {
      "text/plain": [
       "array([[[ 3,  5,  4],\n",
       "        [ 7,  8,  6]],\n",
       "\n",
       "       [[13, 15, 14],\n",
       "        [17, 18, 16]],\n",
       "\n",
       "       [[23, 25, 24],\n",
       "        [27, 82, 62]],\n",
       "\n",
       "       [[43, 45, 44],\n",
       "        [47,  8,  6]]])"
      ]
     },
     "execution_count": 11,
     "metadata": {},
     "output_type": "execute_result"
    }
   ],
   "source": [
    "## Define 3D array\n",
    "a3 = np.array([[[3,5,4],[7,8,6]],[[13,15,14],[17,18,16]],[[23,25,24],[27,82,62]],[[43,45,44],[47,8,6]]])\n",
    "a3"
   ]
  },
  {
   "cell_type": "code",
   "execution_count": 12,
   "id": "5cc7540a",
   "metadata": {},
   "outputs": [
    {
     "data": {
      "text/plain": [
       "24"
      ]
     },
     "execution_count": 12,
     "metadata": {},
     "output_type": "execute_result"
    }
   ],
   "source": [
    "## Count no of elements in array\n",
    "a3.size"
   ]
  },
  {
   "cell_type": "code",
   "execution_count": 13,
   "id": "ab150a71",
   "metadata": {},
   "outputs": [
    {
     "data": {
      "text/plain": [
       "(4, 2, 3)"
      ]
     },
     "execution_count": 13,
     "metadata": {},
     "output_type": "execute_result"
    }
   ],
   "source": [
    "## Check shape of array\n",
    "a3.shape  ## -----> 4 layers with 2D array of size(2,3)"
   ]
  },
  {
   "cell_type": "code",
   "execution_count": 14,
   "id": "898782a9",
   "metadata": {},
   "outputs": [
    {
     "data": {
      "text/plain": [
       "3"
      ]
     },
     "execution_count": 14,
     "metadata": {},
     "output_type": "execute_result"
    }
   ],
   "source": [
    "## Check dimension of array\n",
    "a3.ndim"
   ]
  },
  {
   "cell_type": "markdown",
   "id": "05d8729b",
   "metadata": {},
   "source": [
    "### np.random()"
   ]
  },
  {
   "cell_type": "markdown",
   "id": "6800a69c",
   "metadata": {},
   "source": [
    "-  Generate random numbers bet 0-1 which follows uniform distribution"
   ]
  },
  {
   "cell_type": "code",
   "execution_count": 15,
   "id": "f7733825",
   "metadata": {},
   "outputs": [
    {
     "data": {
      "text/plain": [
       "array([0.35405391, 0.16802908, 0.72161625, 0.4486263 , 0.36677142,\n",
       "       0.08705857, 0.87653291, 0.15361869, 0.52897255, 0.93306808])"
      ]
     },
     "execution_count": 15,
     "metadata": {},
     "output_type": "execute_result"
    }
   ],
   "source": [
    "np.random.random(10)  #Uniform distribution"
   ]
  },
  {
   "cell_type": "code",
   "execution_count": 16,
   "id": "a45a8852",
   "metadata": {},
   "outputs": [
    {
     "name": "stderr",
     "output_type": "stream",
     "text": [
      "C:\\Users\\Shree\\AppData\\Local\\Programs\\Python\\Python310\\lib\\site-packages\\seaborn\\distributions.py:2619: FutureWarning: `distplot` is a deprecated function and will be removed in a future version. Please adapt your code to use either `displot` (a figure-level function with similar flexibility) or `histplot` (an axes-level function for histograms).\n",
      "  warnings.warn(msg, FutureWarning)\n"
     ]
    },
    {
     "data": {
      "text/plain": [
       "<AxesSubplot:ylabel='Density'>"
      ]
     },
     "execution_count": 16,
     "metadata": {},
     "output_type": "execute_result"
    },
    {
     "data": {
      "image/png": "[encoded data removed]",
      "text/plain": [
       "<Figure size 432x288 with 1 Axes>"
      ]
     },
     "metadata": {
      "needs_background": "light"
     },
     "output_type": "display_data"
    }
   ],
   "source": [
    "sns.distplot(np.random.random(10),kde=True)"
   ]
  },
  {
   "cell_type": "markdown",
   "id": "e1ef3565",
   "metadata": {},
   "source": [
    "### np.randn()"
   ]
  },
  {
   "cell_type": "markdown",
   "id": "4a4b60a6",
   "metadata": {},
   "source": [
    "- Generate numbers bet 0-1 which follows normal distribution"
   ]
  },
  {
   "cell_type": "code",
   "execution_count": 17,
   "id": "52bfaca4",
   "metadata": {},
   "outputs": [
    {
     "data": {
      "text/plain": [
       "array([ 2.02559989,  1.13845072,  0.35959519, -0.62690571,  0.75445482,\n",
       "        1.85460461,  0.54554556, -1.68646714, -1.17265279,  0.7555629 ])"
      ]
     },
     "execution_count": 17,
     "metadata": {},
     "output_type": "execute_result"
    }
   ],
   "source": [
    "np.random.randn(10)"
   ]
  },
  {
   "cell_type": "code",
   "execution_count": 18,
   "id": "0014aa39",
   "metadata": {},
   "outputs": [
    {
     "data": {
      "text/plain": [
       "<seaborn.axisgrid.FacetGrid at 0x1abf61a0460>"
      ]
     },
     "execution_count": 18,
     "metadata": {},
     "output_type": "execute_result"
    },
    {
     "data": {
      "image/png": "[encoded data removed]",
      "text/plain": [
       "<Figure size 360x360 with 1 Axes>"
      ]
     },
     "metadata": {
      "needs_background": "light"
     },
     "output_type": "display_data"
    }
   ],
   "source": [
    "sns.displot(np.random.randn(10),kde=True)"
   ]
  },
  {
   "cell_type": "markdown",
   "id": "febfd24b",
   "metadata": {},
   "source": [
    "### np.randint()"
   ]
  },
  {
   "cell_type": "markdown",
   "id": "2992f66e",
   "metadata": {},
   "source": [
    "- randint(low, high=None, size=None, dtype=int)\n",
    "\n",
    "- Return random integers from `low` (inclusive) to `high` (exclusive).\n"
   ]
  },
  {
   "cell_type": "code",
   "execution_count": 19,
   "id": "80638e2c",
   "metadata": {},
   "outputs": [
    {
     "data": {
      "text/plain": [
       "array([97, 24, 41, 38, 75, 64, 50, 25, 27, 35])"
      ]
     },
     "execution_count": 19,
     "metadata": {},
     "output_type": "execute_result"
    }
   ],
   "source": [
    "np.random.randint(1,100,10)"
   ]
  },
  {
   "cell_type": "markdown",
   "id": "feed6bca",
   "metadata": {},
   "source": [
    "### np.arange()"
   ]
  },
  {
   "cell_type": "markdown",
   "id": "e8e85437",
   "metadata": {},
   "source": [
    "- np.arange([start,] stop[, step,], dtype=None, *, like=None)\n",
    "\n",
    "- Return evenly spaced values within a given interval."
   ]
  },
  {
   "cell_type": "code",
   "execution_count": 20,
   "id": "f724676e",
   "metadata": {},
   "outputs": [
    {
     "data": {
      "text/plain": [
       "array([0, 1, 2, 3, 4, 5, 6, 7, 8, 9])"
      ]
     },
     "execution_count": 20,
     "metadata": {},
     "output_type": "execute_result"
    }
   ],
   "source": [
    "## Default starts from 0 to n-1\n",
    "np.arange(10)"
   ]
  },
  {
   "cell_type": "code",
   "execution_count": 21,
   "id": "c2f95f86",
   "metadata": {},
   "outputs": [
    {
     "data": {
      "text/plain": [
       "array([ 1,  2,  3,  4,  5,  6,  7,  8,  9, 10, 11, 12, 13, 14, 15])"
      ]
     },
     "execution_count": 21,
     "metadata": {},
     "output_type": "execute_result"
    }
   ],
   "source": [
    "np.arange(1,16)"
   ]
  },
  {
   "cell_type": "code",
   "execution_count": 22,
   "id": "b286f90c",
   "metadata": {},
   "outputs": [
    {
     "data": {
      "text/plain": [
       "array([ 1,  3,  5,  7,  9, 11, 13, 15])"
      ]
     },
     "execution_count": 22,
     "metadata": {},
     "output_type": "execute_result"
    }
   ],
   "source": [
    "np.arange(1,16,2)   ## 2 is step size"
   ]
  },
  {
   "cell_type": "markdown",
   "id": "93f182a2",
   "metadata": {},
   "source": [
    "### np.zeros()"
   ]
  },
  {
   "cell_type": "markdown",
   "id": "d8a65dc1",
   "metadata": {},
   "source": [
    "- np.zeros(shape, dtype=float, order='C', *, like=None)\n",
    "\n",
    "- Return a new array of given shape and type, filled with zeros."
   ]
  },
  {
   "cell_type": "code",
   "execution_count": 23,
   "id": "26a55925",
   "metadata": {},
   "outputs": [
    {
     "data": {
      "text/plain": [
       "array([0., 0., 0., 0., 0.])"
      ]
     },
     "execution_count": 23,
     "metadata": {},
     "output_type": "execute_result"
    }
   ],
   "source": [
    "np.zeros(5)"
   ]
  },
  {
   "cell_type": "code",
   "execution_count": 24,
   "id": "28cf8658",
   "metadata": {},
   "outputs": [
    {
     "data": {
      "text/plain": [
       "array([[0., 0., 0., 0., 0.],\n",
       "       [0., 0., 0., 0., 0.],\n",
       "       [0., 0., 0., 0., 0.],\n",
       "       [0., 0., 0., 0., 0.]])"
      ]
     },
     "execution_count": 24,
     "metadata": {},
     "output_type": "execute_result"
    }
   ],
   "source": [
    "np.zeros((4,5))"
   ]
  },
  {
   "cell_type": "markdown",
   "id": "5edb40ee",
   "metadata": {},
   "source": [
    "### np.ones()"
   ]
  },
  {
   "cell_type": "markdown",
   "id": "da764984",
   "metadata": {},
   "source": [
    "- np.ones(shape, dtype=None, order='C', *, like=None)\n",
    "\n",
    "- Return a new array of given shape and type, filled with ones."
   ]
  },
  {
   "cell_type": "code",
   "execution_count": 25,
   "id": "61beb9c8",
   "metadata": {},
   "outputs": [
    {
     "data": {
      "text/plain": [
       "array([1., 1., 1., 1.])"
      ]
     },
     "execution_count": 25,
     "metadata": {},
     "output_type": "execute_result"
    }
   ],
   "source": [
    "np.ones(4)"
   ]
  },
  {
   "cell_type": "code",
   "execution_count": 26,
   "id": "c4d51e78",
   "metadata": {},
   "outputs": [
    {
     "data": {
      "text/plain": [
       "array([[1., 1., 1., 1., 1.],\n",
       "       [1., 1., 1., 1., 1.],\n",
       "       [1., 1., 1., 1., 1.],\n",
       "       [1., 1., 1., 1., 1.]])"
      ]
     },
     "execution_count": 26,
     "metadata": {},
     "output_type": "execute_result"
    }
   ],
   "source": [
    "np.ones((4,5))"
   ]
  },
  {
   "cell_type": "markdown",
   "id": "ca0bccf8",
   "metadata": {},
   "source": [
    "### np.empty()"
   ]
  },
  {
   "cell_type": "markdown",
   "id": "cd72c013",
   "metadata": {},
   "source": [
    "- np.empty(shape, dtype=float, order='C', *, like=None)\n",
    "\n",
    "- Return a new array of given shape and type, without initializing entries."
   ]
  },
  {
   "cell_type": "code",
   "execution_count": 27,
   "id": "6c6a4bf9",
   "metadata": {},
   "outputs": [
    {
     "data": {
      "text/plain": [
       "array([[0.70243056, 0.33611111, 0.70243056],\n",
       "       [4.8       , 4.8       , 0.33611111]])"
      ]
     },
     "execution_count": 27,
     "metadata": {},
     "output_type": "execute_result"
    }
   ],
   "source": [
    "np.empty((2,3), dtype = 'float')"
   ]
  },
  {
   "cell_type": "markdown",
   "id": "bad68746",
   "metadata": {},
   "source": [
    "### np.full()"
   ]
  },
  {
   "cell_type": "markdown",
   "id": "eb5bf04b",
   "metadata": {},
   "source": [
    "- np.full(shape, fill_value, dtype=None, order='C', *, like=None)\n",
    "\n",
    "- Return a new array of given shape and type, filled with `fill_value`"
   ]
  },
  {
   "cell_type": "code",
   "execution_count": 28,
   "id": "fa3dfb86",
   "metadata": {},
   "outputs": [
    {
     "data": {
      "text/plain": [
       "array([[7, 7, 7, 7],\n",
       "       [7, 7, 7, 7],\n",
       "       [7, 7, 7, 7]])"
      ]
     },
     "execution_count": 28,
     "metadata": {},
     "output_type": "execute_result"
    }
   ],
   "source": [
    "np.full((3,4), fill_value = 7)"
   ]
  },
  {
   "cell_type": "markdown",
   "id": "5fbb7bcb",
   "metadata": {},
   "source": [
    "### np.identity()"
   ]
  },
  {
   "cell_type": "markdown",
   "id": "a8318883",
   "metadata": {},
   "source": [
    "- np.identity(n, dtype=None, *, like=None)\n",
    "\n",
    "- Return the identity array."
   ]
  },
  {
   "cell_type": "code",
   "execution_count": 29,
   "id": "87879dd0",
   "metadata": {},
   "outputs": [
    {
     "data": {
      "text/plain": [
       "array([[1., 0., 0.],\n",
       "       [0., 1., 0.],\n",
       "       [0., 0., 1.]])"
      ]
     },
     "execution_count": 29,
     "metadata": {},
     "output_type": "execute_result"
    }
   ],
   "source": [
    "np.identity(3)"
   ]
  },
  {
   "cell_type": "markdown",
   "id": "83d4d3bc",
   "metadata": {},
   "source": [
    "### np.eye()"
   ]
  },
  {
   "cell_type": "markdown",
   "id": "f6d383ad",
   "metadata": {},
   "source": [
    "- np.eye(N, M=None, k=0, dtype=<class 'float'>, order='C', *, like=None)\n",
    "\n",
    "- Return a 2-D array with ones on the diagonal and zeros elsewhere."
   ]
  },
  {
   "cell_type": "code",
   "execution_count": 30,
   "id": "3038e241",
   "metadata": {},
   "outputs": [
    {
     "data": {
      "text/plain": [
       "array([[1., 0., 0.],\n",
       "       [0., 1., 0.],\n",
       "       [0., 0., 1.],\n",
       "       [0., 0., 0.]])"
      ]
     },
     "execution_count": 30,
     "metadata": {},
     "output_type": "execute_result"
    }
   ],
   "source": [
    "## k=0 refers to main diagonal\n",
    "np.eye(N=4,M=3, k=0)"
   ]
  },
  {
   "cell_type": "code",
   "execution_count": 31,
   "id": "a19a15ac",
   "metadata": {},
   "outputs": [
    {
     "data": {
      "text/plain": [
       "array([[0., 1., 0.],\n",
       "       [0., 0., 1.],\n",
       "       [0., 0., 0.],\n",
       "       [0., 0., 0.]])"
      ]
     },
     "execution_count": 31,
     "metadata": {},
     "output_type": "execute_result"
    }
   ],
   "source": [
    "np.eye(N=4,M=3, k=1)"
   ]
  },
  {
   "cell_type": "code",
   "execution_count": 32,
   "id": "5b8b20ce",
   "metadata": {},
   "outputs": [
    {
     "data": {
      "text/plain": [
       "array([[0., 0., 0., 1., 0., 0.],\n",
       "       [0., 0., 0., 0., 1., 0.],\n",
       "       [0., 0., 0., 0., 0., 1.],\n",
       "       [0., 0., 0., 0., 0., 0.],\n",
       "       [0., 0., 0., 0., 0., 0.]])"
      ]
     },
     "execution_count": 32,
     "metadata": {},
     "output_type": "execute_result"
    }
   ],
   "source": [
    "np.eye(N=5,M=6, k=3)"
   ]
  },
  {
   "cell_type": "code",
   "execution_count": 33,
   "id": "364bb4b7",
   "metadata": {},
   "outputs": [
    {
     "data": {
      "text/plain": [
       "array([[0., 0., 0., 0., 0., 0.],\n",
       "       [0., 0., 0., 0., 0., 0.],\n",
       "       [1., 0., 0., 0., 0., 0.],\n",
       "       [0., 1., 0., 0., 0., 0.],\n",
       "       [0., 0., 1., 0., 0., 0.]])"
      ]
     },
     "execution_count": 33,
     "metadata": {},
     "output_type": "execute_result"
    }
   ],
   "source": [
    "np.eye(N=5,M=6, k=-2)"
   ]
  },
  {
   "cell_type": "code",
   "execution_count": 34,
   "id": "45893222",
   "metadata": {},
   "outputs": [
    {
     "data": {
      "text/plain": [
       "array([ 1,  2,  3,  4,  5,  6,  7,  8,  9, 10, 11, 12, 13, 14, 15, 16])"
      ]
     },
     "execution_count": 34,
     "metadata": {},
     "output_type": "execute_result"
    }
   ],
   "source": [
    "arr = np.arange(1,17)\n",
    "arr"
   ]
  },
  {
   "cell_type": "markdown",
   "id": "e608d1ed",
   "metadata": {},
   "source": [
    "### np.reshape()"
   ]
  },
  {
   "cell_type": "markdown",
   "id": "0ad79c64",
   "metadata": {},
   "source": [
    "- a.reshape(shape, order='C')\n",
    "\n",
    "- Returns an array containing the same data with a new shape."
   ]
  },
  {
   "cell_type": "code",
   "execution_count": 35,
   "id": "5e62cf21",
   "metadata": {},
   "outputs": [
    {
     "data": {
      "text/plain": [
       "array([[ 1,  2,  3,  4],\n",
       "       [ 5,  6,  7,  8],\n",
       "       [ 9, 10, 11, 12],\n",
       "       [13, 14, 15, 16]])"
      ]
     },
     "execution_count": 35,
     "metadata": {},
     "output_type": "execute_result"
    }
   ],
   "source": [
    "arr1 = arr.reshape(4,4)\n",
    "arr1"
   ]
  },
  {
   "cell_type": "code",
   "execution_count": 36,
   "id": "3f72f6c5",
   "metadata": {},
   "outputs": [
    {
     "data": {
      "text/plain": [
       "array([[ 1,  2,  3,  4,  5,  6,  7,  8],\n",
       "       [ 9, 10, 11, 12, 13, 14, 15, 16]])"
      ]
     },
     "execution_count": 36,
     "metadata": {},
     "output_type": "execute_result"
    }
   ],
   "source": [
    "arr.reshape(2,8)"
   ]
  },
  {
   "cell_type": "code",
   "execution_count": 37,
   "id": "f8df97ed",
   "metadata": {},
   "outputs": [
    {
     "data": {
      "text/plain": [
       "array([[ 1,  2],\n",
       "       [ 3,  4],\n",
       "       [ 5,  6],\n",
       "       [ 7,  8],\n",
       "       [ 9, 10],\n",
       "       [11, 12],\n",
       "       [13, 14],\n",
       "       [15, 16]])"
      ]
     },
     "execution_count": 37,
     "metadata": {},
     "output_type": "execute_result"
    }
   ],
   "source": [
    "arr.reshape(8,2)"
   ]
  },
  {
   "cell_type": "markdown",
   "id": "149d65a9",
   "metadata": {},
   "source": [
    "### Indexing and Slicing of an array"
   ]
  },
  {
   "cell_type": "code",
   "execution_count": 38,
   "id": "347d728c",
   "metadata": {},
   "outputs": [
    {
     "data": {
      "text/plain": [
       "array([[ 1,  2,  3,  4],\n",
       "       [ 5,  6,  7,  8],\n",
       "       [ 9, 10, 11, 12],\n",
       "       [13, 14, 15, 16]])"
      ]
     },
     "execution_count": 38,
     "metadata": {},
     "output_type": "execute_result"
    }
   ],
   "source": [
    "arr1"
   ]
  },
  {
   "cell_type": "code",
   "execution_count": 39,
   "id": "874aa586",
   "metadata": {},
   "outputs": [
    {
     "data": {
      "text/plain": [
       "7"
      ]
     },
     "execution_count": 39,
     "metadata": {},
     "output_type": "execute_result"
    }
   ],
   "source": [
    "arr1[1][2]"
   ]
  },
  {
   "cell_type": "code",
   "execution_count": 40,
   "id": "469c73a0",
   "metadata": {},
   "outputs": [
    {
     "data": {
      "text/plain": [
       "array([ 9, 10, 11, 12])"
      ]
     },
     "execution_count": 40,
     "metadata": {},
     "output_type": "execute_result"
    }
   ],
   "source": [
    "arr1[2][:]"
   ]
  },
  {
   "cell_type": "code",
   "execution_count": 41,
   "id": "634ce53c",
   "metadata": {},
   "outputs": [
    {
     "data": {
      "text/plain": [
       "array([10, 11])"
      ]
     },
     "execution_count": 41,
     "metadata": {},
     "output_type": "execute_result"
    }
   ],
   "source": [
    "arr1[2][1:3]"
   ]
  },
  {
   "cell_type": "code",
   "execution_count": 42,
   "id": "2b31950d",
   "metadata": {},
   "outputs": [
    {
     "data": {
      "text/plain": [
       "array([10, 11])"
      ]
     },
     "execution_count": 42,
     "metadata": {},
     "output_type": "execute_result"
    }
   ],
   "source": [
    "arr1[2,1:3]"
   ]
  },
  {
   "cell_type": "code",
   "execution_count": 43,
   "id": "875a7ae5",
   "metadata": {},
   "outputs": [
    {
     "data": {
      "text/plain": [
       "array([5, 6, 7, 8])"
      ]
     },
     "execution_count": 43,
     "metadata": {},
     "output_type": "execute_result"
    }
   ],
   "source": [
    "arr1[1]"
   ]
  },
  {
   "cell_type": "code",
   "execution_count": 44,
   "id": "61c9469a",
   "metadata": {},
   "outputs": [
    {
     "data": {
      "text/plain": [
       "array([[11, 12],\n",
       "       [15, 16]])"
      ]
     },
     "execution_count": 44,
     "metadata": {},
     "output_type": "execute_result"
    }
   ],
   "source": [
    "arr1[2:,2:]"
   ]
  },
  {
   "cell_type": "code",
   "execution_count": 45,
   "id": "df4a0fe9",
   "metadata": {},
   "outputs": [
    {
     "data": {
      "text/plain": [
       "array([[ 1,  2,  3,  4],\n",
       "       [ 5,  6,  7,  8],\n",
       "       [ 9, 10, 11, 12],\n",
       "       [13, 14, 15, 16]])"
      ]
     },
     "execution_count": 45,
     "metadata": {},
     "output_type": "execute_result"
    }
   ],
   "source": [
    "arr1"
   ]
  },
  {
   "cell_type": "code",
   "execution_count": 46,
   "id": "dd9ed3b4",
   "metadata": {},
   "outputs": [
    {
     "data": {
      "text/plain": [
       "array([[False, False, False, False],\n",
       "       [False, False, False, False],\n",
       "       [False,  True,  True,  True],\n",
       "       [ True,  True,  True,  True]])"
      ]
     },
     "execution_count": 46,
     "metadata": {},
     "output_type": "execute_result"
    }
   ],
   "source": [
    "arr1 > 9"
   ]
  },
  {
   "cell_type": "code",
   "execution_count": 47,
   "id": "5a276c14",
   "metadata": {},
   "outputs": [
    {
     "data": {
      "text/plain": [
       "array([10, 11, 12, 13, 14, 15, 16])"
      ]
     },
     "execution_count": 47,
     "metadata": {},
     "output_type": "execute_result"
    }
   ],
   "source": [
    "## Conditional slicing\n",
    "arr1[arr1>9]"
   ]
  },
  {
   "cell_type": "markdown",
   "id": "e91265e5",
   "metadata": {},
   "source": [
    "### Arithmetic operations on array"
   ]
  },
  {
   "cell_type": "code",
   "execution_count": 48,
   "id": "0e144c24",
   "metadata": {},
   "outputs": [],
   "source": [
    "a1 = np.array([4,6,5,23,5,7])\n",
    "a2 = np.array([6,7,3,5,7,3])"
   ]
  },
  {
   "cell_type": "code",
   "execution_count": 49,
   "id": "59ee9db0",
   "metadata": {},
   "outputs": [
    {
     "data": {
      "text/plain": [
       "array([10, 13,  8, 28, 12, 10])"
      ]
     },
     "execution_count": 49,
     "metadata": {},
     "output_type": "execute_result"
    }
   ],
   "source": [
    "a1+a2"
   ]
  },
  {
   "cell_type": "code",
   "execution_count": 50,
   "id": "68a2fe68",
   "metadata": {},
   "outputs": [
    {
     "data": {
      "text/plain": [
       "array([-2, -1,  2, 18, -2,  4])"
      ]
     },
     "execution_count": 50,
     "metadata": {},
     "output_type": "execute_result"
    }
   ],
   "source": [
    "a1-a2"
   ]
  },
  {
   "cell_type": "code",
   "execution_count": 51,
   "id": "cc4c3230",
   "metadata": {},
   "outputs": [
    {
     "data": {
      "text/plain": [
       "array([ 24,  42,  15, 115,  35,  21])"
      ]
     },
     "execution_count": 51,
     "metadata": {},
     "output_type": "execute_result"
    }
   ],
   "source": [
    "a1*a2"
   ]
  },
  {
   "cell_type": "code",
   "execution_count": 52,
   "id": "201a32f5",
   "metadata": {},
   "outputs": [
    {
     "data": {
      "text/plain": [
       "array([0.66666667, 0.85714286, 1.66666667, 4.6       , 0.71428571,\n",
       "       2.33333333])"
      ]
     },
     "execution_count": 52,
     "metadata": {},
     "output_type": "execute_result"
    }
   ],
   "source": [
    "a1/a2"
   ]
  },
  {
   "cell_type": "code",
   "execution_count": 53,
   "id": "8bd0f234",
   "metadata": {},
   "outputs": [
    {
     "data": {
      "text/plain": [
       "array([16, 24, 20, 92, 20, 28])"
      ]
     },
     "execution_count": 53,
     "metadata": {},
     "output_type": "execute_result"
    }
   ],
   "source": [
    "a1*4"
   ]
  },
  {
   "cell_type": "markdown",
   "id": "efd1dd3e",
   "metadata": {},
   "source": [
    "### Matrix Multiplication"
   ]
  },
  {
   "cell_type": "code",
   "execution_count": 54,
   "id": "cf945aba",
   "metadata": {},
   "outputs": [],
   "source": [
    "a1 = np.array([[4,6,5],[6,7,3]])\n",
    "a2 = np.array([[6,4,6,2,3,8],[6,17,2,0,7,9],[6,4,65,2,7,8]])"
   ]
  },
  {
   "cell_type": "code",
   "execution_count": 55,
   "id": "c1ae5fa9",
   "metadata": {},
   "outputs": [
    {
     "data": {
      "text/plain": [
       "array([[4, 6, 5],\n",
       "       [6, 7, 3]])"
      ]
     },
     "execution_count": 55,
     "metadata": {},
     "output_type": "execute_result"
    }
   ],
   "source": [
    "a1"
   ]
  },
  {
   "cell_type": "code",
   "execution_count": 56,
   "id": "39879b83",
   "metadata": {},
   "outputs": [
    {
     "data": {
      "text/plain": [
       "(2, 3)"
      ]
     },
     "execution_count": 56,
     "metadata": {},
     "output_type": "execute_result"
    }
   ],
   "source": [
    "a1.shape"
   ]
  },
  {
   "cell_type": "code",
   "execution_count": 57,
   "id": "9a75d590",
   "metadata": {},
   "outputs": [
    {
     "data": {
      "text/plain": [
       "array([[ 6,  4,  6,  2,  3,  8],\n",
       "       [ 6, 17,  2,  0,  7,  9],\n",
       "       [ 6,  4, 65,  2,  7,  8]])"
      ]
     },
     "execution_count": 57,
     "metadata": {},
     "output_type": "execute_result"
    }
   ],
   "source": [
    "a2"
   ]
  },
  {
   "cell_type": "code",
   "execution_count": 58,
   "id": "c18450ae",
   "metadata": {},
   "outputs": [
    {
     "data": {
      "text/plain": [
       "(3, 6)"
      ]
     },
     "execution_count": 58,
     "metadata": {},
     "output_type": "execute_result"
    }
   ],
   "source": [
    "a2.shape"
   ]
  },
  {
   "cell_type": "markdown",
   "id": "cf4203a6",
   "metadata": {},
   "source": [
    "### np.dot()"
   ]
  },
  {
   "cell_type": "code",
   "execution_count": 59,
   "id": "a462008f",
   "metadata": {},
   "outputs": [
    {
     "data": {
      "text/plain": [
       "array([[ 90, 138, 361,  18,  89, 126],\n",
       "       [ 96, 155, 245,  18,  88, 135]])"
      ]
     },
     "execution_count": 59,
     "metadata": {},
     "output_type": "execute_result"
    }
   ],
   "source": [
    "## Dot Product of two arrays\n",
    "a1.dot(a2)"
   ]
  },
  {
   "cell_type": "code",
   "execution_count": 60,
   "id": "7b8c8450",
   "metadata": {},
   "outputs": [
    {
     "data": {
      "text/plain": [
       "array([[ 90, 138, 361,  18,  89, 126],\n",
       "       [ 96, 155, 245,  18,  88, 135]])"
      ]
     },
     "execution_count": 60,
     "metadata": {},
     "output_type": "execute_result"
    }
   ],
   "source": [
    "np.dot(a1,a2)"
   ]
  },
  {
   "cell_type": "code",
   "execution_count": 61,
   "id": "f044c740",
   "metadata": {},
   "outputs": [
    {
     "data": {
      "text/plain": [
       "65"
      ]
     },
     "execution_count": 61,
     "metadata": {},
     "output_type": "execute_result"
    }
   ],
   "source": [
    "np.max(a2)"
   ]
  },
  {
   "cell_type": "code",
   "execution_count": 62,
   "id": "696abcc7",
   "metadata": {},
   "outputs": [
    {
     "data": {
      "text/plain": [
       "0"
      ]
     },
     "execution_count": 62,
     "metadata": {},
     "output_type": "execute_result"
    }
   ],
   "source": [
    "np.min(a2)"
   ]
  },
  {
   "cell_type": "code",
   "execution_count": 63,
   "id": "a210bf12",
   "metadata": {},
   "outputs": [
    {
     "data": {
      "text/plain": [
       "9.0"
      ]
     },
     "execution_count": 63,
     "metadata": {},
     "output_type": "execute_result"
    }
   ],
   "source": [
    "np.mean(a2)"
   ]
  },
  {
   "cell_type": "code",
   "execution_count": 64,
   "id": "aa63d57a",
   "metadata": {},
   "outputs": [
    {
     "data": {
      "text/plain": [
       "14.063348739819324"
      ]
     },
     "execution_count": 64,
     "metadata": {},
     "output_type": "execute_result"
    }
   ],
   "source": [
    "np.std(a2)"
   ]
  },
  {
   "cell_type": "code",
   "execution_count": 65,
   "id": "be46d807",
   "metadata": {},
   "outputs": [
    {
     "data": {
      "text/plain": [
       "197.77777777777777"
      ]
     },
     "execution_count": 65,
     "metadata": {},
     "output_type": "execute_result"
    }
   ],
   "source": [
    "np.var(a2)"
   ]
  },
  {
   "cell_type": "code",
   "execution_count": 66,
   "id": "171893e7",
   "metadata": {},
   "outputs": [
    {
     "data": {
      "text/plain": [
       "array([[2.44948974, 2.        , 2.44948974, 1.41421356, 1.73205081,\n",
       "        2.82842712],\n",
       "       [2.44948974, 4.12310563, 1.41421356, 0.        , 2.64575131,\n",
       "        3.        ],\n",
       "       [2.44948974, 2.        , 8.06225775, 1.41421356, 2.64575131,\n",
       "        2.82842712]])"
      ]
     },
     "execution_count": 66,
     "metadata": {},
     "output_type": "execute_result"
    }
   ],
   "source": [
    "np.sqrt(a2)"
   ]
  },
  {
   "cell_type": "code",
   "execution_count": 67,
   "id": "6c71c3a0",
   "metadata": {},
   "outputs": [
    {
     "data": {
      "text/plain": [
       "array([[ 6,  6,  6],\n",
       "       [ 4, 17,  4],\n",
       "       [ 6,  2, 65],\n",
       "       [ 2,  0,  2],\n",
       "       [ 3,  7,  7],\n",
       "       [ 8,  9,  8]])"
      ]
     },
     "execution_count": 67,
     "metadata": {},
     "output_type": "execute_result"
    }
   ],
   "source": [
    "np.transpose(a2)"
   ]
  },
  {
   "cell_type": "code",
   "execution_count": 68,
   "id": "c2f30d32",
   "metadata": {},
   "outputs": [
    {
     "data": {
      "text/plain": [
       "array([[ 6,  6,  6],\n",
       "       [ 4, 17,  4],\n",
       "       [ 6,  2, 65],\n",
       "       [ 2,  0,  2],\n",
       "       [ 3,  7,  7],\n",
       "       [ 8,  9,  8]])"
      ]
     },
     "execution_count": 68,
     "metadata": {},
     "output_type": "execute_result"
    }
   ],
   "source": [
    "a2.T"
   ]
  },
  {
   "cell_type": "markdown",
   "id": "1475a2b0",
   "metadata": {},
   "source": [
    "### Concatenate"
   ]
  },
  {
   "cell_type": "code",
   "execution_count": 69,
   "id": "85b40512",
   "metadata": {},
   "outputs": [
    {
     "data": {
      "text/plain": [
       "array([[3, 5, 6],\n",
       "       [2, 3, 4]])"
      ]
     },
     "execution_count": 69,
     "metadata": {},
     "output_type": "execute_result"
    }
   ],
   "source": [
    "b1 = np.array([[3,5,6],[2,3,4]])\n",
    "b1"
   ]
  },
  {
   "cell_type": "code",
   "execution_count": 70,
   "id": "3e0d2f19",
   "metadata": {},
   "outputs": [
    {
     "data": {
      "text/plain": [
       "array([[4, 6, 7],\n",
       "       [8, 3, 2]])"
      ]
     },
     "execution_count": 70,
     "metadata": {},
     "output_type": "execute_result"
    }
   ],
   "source": [
    "b2 = np.array([[4,6,7],[8,3,2]])\n",
    "b2"
   ]
  },
  {
   "cell_type": "markdown",
   "id": "c563fd8f",
   "metadata": {},
   "source": [
    "- concatenate((a1, a2, ...), axis=0, out=None, dtype=None, casting=\"same_kind\")\n",
    "\n",
    "- Join a sequence of arrays along an existing axis."
   ]
  },
  {
   "cell_type": "code",
   "execution_count": 71,
   "id": "918eb807",
   "metadata": {},
   "outputs": [
    {
     "data": {
      "text/plain": [
       "array([[3, 5, 6],\n",
       "       [2, 3, 4],\n",
       "       [4, 6, 7],\n",
       "       [8, 3, 2]])"
      ]
     },
     "execution_count": 71,
     "metadata": {},
     "output_type": "execute_result"
    }
   ],
   "source": [
    "np.concatenate([b1,b2])"
   ]
  },
  {
   "cell_type": "code",
   "execution_count": 72,
   "id": "6d826b1f",
   "metadata": {},
   "outputs": [
    {
     "data": {
      "text/plain": [
       "array([[3, 5, 6, 4, 6, 7],\n",
       "       [2, 3, 4, 8, 3, 2]])"
      ]
     },
     "execution_count": 72,
     "metadata": {},
     "output_type": "execute_result"
    }
   ],
   "source": [
    "np.concatenate([b1,b2], axis=1)"
   ]
  },
  {
   "cell_type": "markdown",
   "id": "4899e331",
   "metadata": {},
   "source": [
    "### Stacking"
   ]
  },
  {
   "cell_type": "markdown",
   "id": "d417d86e",
   "metadata": {},
   "source": [
    "- np.stack(arrays, axis=0, out=None)\n",
    "\n",
    "- Join a sequence of arrays along a new axis."
   ]
  },
  {
   "cell_type": "code",
   "execution_count": 73,
   "id": "0bcc6e37",
   "metadata": {},
   "outputs": [
    {
     "data": {
      "text/plain": [
       "array([[[3, 5, 6],\n",
       "        [2, 3, 4]],\n",
       "\n",
       "       [[4, 6, 7],\n",
       "        [8, 3, 2]]])"
      ]
     },
     "execution_count": 73,
     "metadata": {},
     "output_type": "execute_result"
    }
   ],
   "source": [
    "b3 = np.stack([b1,b2])\n",
    "b3"
   ]
  },
  {
   "cell_type": "code",
   "execution_count": 74,
   "id": "abfc9e63",
   "metadata": {},
   "outputs": [
    {
     "data": {
      "text/plain": [
       "2"
      ]
     },
     "execution_count": 74,
     "metadata": {},
     "output_type": "execute_result"
    }
   ],
   "source": [
    "b1.ndim"
   ]
  },
  {
   "cell_type": "code",
   "execution_count": 75,
   "id": "94b0bb67",
   "metadata": {},
   "outputs": [
    {
     "data": {
      "text/plain": [
       "2"
      ]
     },
     "execution_count": 75,
     "metadata": {},
     "output_type": "execute_result"
    }
   ],
   "source": [
    "b2.ndim"
   ]
  },
  {
   "cell_type": "code",
   "execution_count": 76,
   "id": "20bb5385",
   "metadata": {},
   "outputs": [
    {
     "data": {
      "text/plain": [
       "3"
      ]
     },
     "execution_count": 76,
     "metadata": {},
     "output_type": "execute_result"
    }
   ],
   "source": [
    "b3.ndim"
   ]
  },
  {
   "cell_type": "code",
   "execution_count": 77,
   "id": "16970152",
   "metadata": {},
   "outputs": [
    {
     "data": {
      "text/plain": [
       "array([[3, 5, 6, 4, 6, 7],\n",
       "       [2, 3, 4, 8, 3, 2]])"
      ]
     },
     "execution_count": 77,
     "metadata": {},
     "output_type": "execute_result"
    }
   ],
   "source": [
    "b4 = np.hstack([b1,b2])    #Same as concatenate with axis=1\n",
    "b4"
   ]
  },
  {
   "cell_type": "code",
   "execution_count": 78,
   "id": "af5c5f3e",
   "metadata": {},
   "outputs": [
    {
     "data": {
      "text/plain": [
       "array([[3, 5, 6],\n",
       "       [2, 3, 4],\n",
       "       [4, 6, 7],\n",
       "       [8, 3, 2]])"
      ]
     },
     "execution_count": 78,
     "metadata": {},
     "output_type": "execute_result"
    }
   ],
   "source": [
    "b4 = np.vstack([b1,b2])    #Same as concatenate with axis=0\n",
    "b4"
   ]
  },
  {
   "cell_type": "markdown",
   "id": "856c7af8",
   "metadata": {},
   "source": [
    "### Looping over arrays"
   ]
  },
  {
   "cell_type": "code",
   "execution_count": 79,
   "id": "3e5670a8",
   "metadata": {},
   "outputs": [],
   "source": [
    "c1 = np.array([4,6,3,5,7,9])"
   ]
  },
  {
   "cell_type": "code",
   "execution_count": 80,
   "id": "dfe00f63",
   "metadata": {},
   "outputs": [
    {
     "name": "stdout",
     "output_type": "stream",
     "text": [
      "6\n",
      "8\n",
      "5\n",
      "7\n",
      "9\n",
      "11\n"
     ]
    }
   ],
   "source": [
    "for i in c1:\n",
    "    print(i+2)"
   ]
  },
  {
   "cell_type": "code",
   "execution_count": 81,
   "id": "191ba707",
   "metadata": {},
   "outputs": [
    {
     "data": {
      "text/plain": [
       "array([[ 4,  6,  3,  5,  7,  9],\n",
       "       [ 7,  3,  5,  7,  3, 23]])"
      ]
     },
     "execution_count": 81,
     "metadata": {},
     "output_type": "execute_result"
    }
   ],
   "source": [
    "c2 = np.array([[4,6,3,5,7,9],[7,3,5,7,3,23]])\n",
    "c2"
   ]
  },
  {
   "cell_type": "code",
   "execution_count": 82,
   "id": "332e5197",
   "metadata": {},
   "outputs": [
    {
     "name": "stdout",
     "output_type": "stream",
     "text": [
      "[4 6 3 5 7 9]\n",
      "-----------------\n",
      "[ 7  3  5  7  3 23]\n",
      "-----------------\n"
     ]
    }
   ],
   "source": [
    "for i in c2:\n",
    "    print(i)\n",
    "    print(\"-----------------\")"
   ]
  },
  {
   "cell_type": "code",
   "execution_count": 83,
   "id": "11fdbfa9",
   "metadata": {},
   "outputs": [
    {
     "name": "stdout",
     "output_type": "stream",
     "text": [
      "4\n",
      "6\n",
      "3\n",
      "5\n",
      "7\n",
      "9\n",
      "-----------------\n",
      "7\n",
      "3\n",
      "5\n",
      "7\n",
      "3\n",
      "23\n",
      "-----------------\n"
     ]
    }
   ],
   "source": [
    "for i in c2:\n",
    "    for j in i:\n",
    "        print(j)\n",
    "    print(\"-----------------\")"
   ]
  }
 ],
 "metadata": {
  "kernelspec": {
   "display_name": "Python 3 (ipykernel)",
   "language": "python",
   "name": "python3"
  },
  "language_info": {
   "codemirror_mode": {
    "name": "ipython",
    "version": 3
   },
   "file_extension": ".py",
   "mimetype": "text/x-python",
   "name": "python",
   "nbconvert_exporter": "python",
   "pygments_lexer": "ipython3",
   "version": "3.10.2"
  }
 },
 "nbformat": 4,
 "nbformat_minor": 5
}
