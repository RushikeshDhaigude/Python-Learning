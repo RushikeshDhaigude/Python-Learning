{
 "cells": [
  {
   "cell_type": "markdown",
   "id": "185fef3d",
   "metadata": {},
   "source": [
    "## ** Numpy for Linear Algebra **"
   ]
  },
  {
   "cell_type": "code",
   "execution_count": 1,
   "id": "c3487614",
   "metadata": {},
   "outputs": [],
   "source": [
    "import numpy as np\n",
    "import pandas as pd"
   ]
  },
  {
   "cell_type": "markdown",
   "id": "6f30dcf8",
   "metadata": {},
   "source": [
    "### np.full()"
   ]
  },
  {
   "cell_type": "markdown",
   "id": "15a0556d",
   "metadata": {},
   "source": [
    "- np.full(shape, fill_value, dtype=None, order='C', *, like=None)\n",
    "- Return a new array of given shape and type, filled with `fill_value`."
   ]
  },
  {
   "cell_type": "code",
   "execution_count": 2,
   "id": "81387b9d",
   "metadata": {},
   "outputs": [
    {
     "data": {
      "text/plain": [
       "array([[5, 5, 5],\n",
       "       [5, 5, 5]])"
      ]
     },
     "execution_count": 2,
     "metadata": {},
     "output_type": "execute_result"
    }
   ],
   "source": [
    "np.full((2,3),5,dtype=int)"
   ]
  },
  {
   "cell_type": "code",
   "execution_count": 3,
   "id": "eaf0c29b",
   "metadata": {},
   "outputs": [
    {
     "data": {
      "text/plain": [
       "array([[23., 23., 23.],\n",
       "       [23., 23., 23.]])"
      ]
     },
     "execution_count": 3,
     "metadata": {},
     "output_type": "execute_result"
    }
   ],
   "source": [
    "np.full((2,3),23,dtype=float)"
   ]
  },
  {
   "cell_type": "markdown",
   "id": "7dabdb91",
   "metadata": {},
   "source": [
    "### np.ones()"
   ]
  },
  {
   "cell_type": "markdown",
   "id": "a2af8906",
   "metadata": {},
   "source": [
    "- np.ones(shape, dtype=None, order='C', *, like=None)\n",
    "- Return a new array of given shape and type, filled with ones."
   ]
  },
  {
   "cell_type": "code",
   "execution_count": 4,
   "id": "841128d2",
   "metadata": {},
   "outputs": [
    {
     "data": {
      "text/plain": [
       "array([[1, 1],\n",
       "       [1, 1],\n",
       "       [1, 1]])"
      ]
     },
     "execution_count": 4,
     "metadata": {},
     "output_type": "execute_result"
    }
   ],
   "source": [
    "np.ones((3,2),dtype=int)"
   ]
  },
  {
   "cell_type": "markdown",
   "id": "a0b10153",
   "metadata": {},
   "source": [
    "### np.zeros()"
   ]
  },
  {
   "cell_type": "markdown",
   "id": "c7ebe0e2",
   "metadata": {},
   "source": [
    "- np.zeros(shape, dtype=float, order='C', *, like=None)\n",
    "- Return a new array of given shape and type, filled with zeros."
   ]
  },
  {
   "cell_type": "code",
   "execution_count": 5,
   "id": "7e24dcc8",
   "metadata": {},
   "outputs": [
    {
     "data": {
      "text/plain": [
       "array([[0., 0., 0.],\n",
       "       [0., 0., 0.]])"
      ]
     },
     "execution_count": 5,
     "metadata": {},
     "output_type": "execute_result"
    }
   ],
   "source": [
    "np.zeros((2,3))"
   ]
  },
  {
   "cell_type": "markdown",
   "id": "c7e83929",
   "metadata": {},
   "source": [
    "### np.random()"
   ]
  },
  {
   "cell_type": "markdown",
   "id": "adab2dc4",
   "metadata": {},
   "source": [
    "- using random matrix \n",
    "- Return random floats in the half-open interval [0.0, 1.0)"
   ]
  },
  {
   "cell_type": "code",
   "execution_count": 6,
   "id": "78816d5a",
   "metadata": {
    "scrolled": true
   },
   "outputs": [
    {
     "data": {
      "text/plain": [
       "array([[0.50926474, 0.2908125 , 0.76181099, 0.81197574],\n",
       "       [0.94241128, 0.80620503, 0.98220716, 0.17292132],\n",
       "       [0.29355934, 0.5062139 , 0.505177  , 0.71247425]])"
      ]
     },
     "execution_count": 6,
     "metadata": {},
     "output_type": "execute_result"
    }
   ],
   "source": [
    "x=np.random.random((3,4))\n",
    "x"
   ]
  },
  {
   "cell_type": "code",
   "execution_count": 7,
   "id": "5231905a",
   "metadata": {},
   "outputs": [
    {
     "data": {
      "text/plain": [
       "dtype('float64')"
      ]
     },
     "execution_count": 7,
     "metadata": {},
     "output_type": "execute_result"
    }
   ],
   "source": [
    "x.dtype"
   ]
  },
  {
   "cell_type": "markdown",
   "id": "4d21fe98",
   "metadata": {},
   "source": [
    "### Matrix Addition"
   ]
  },
  {
   "cell_type": "code",
   "execution_count": 8,
   "id": "07823796",
   "metadata": {},
   "outputs": [
    {
     "data": {
      "text/plain": [
       "array([[1, 2, 3],\n",
       "       [4, 5, 6]])"
      ]
     },
     "execution_count": 8,
     "metadata": {},
     "output_type": "execute_result"
    }
   ],
   "source": [
    "A=np.array([[1,2,3],[4,5,6]])\n",
    "A"
   ]
  },
  {
   "cell_type": "code",
   "execution_count": 9,
   "id": "e22a67c7",
   "metadata": {},
   "outputs": [
    {
     "data": {
      "text/plain": [
       "array([[2, 3, 4],\n",
       "       [6, 7, 8]])"
      ]
     },
     "execution_count": 9,
     "metadata": {},
     "output_type": "execute_result"
    }
   ],
   "source": [
    "B=np.array([[2,3,4],[6,7,8]])\n",
    "B"
   ]
  },
  {
   "cell_type": "code",
   "execution_count": 10,
   "id": "b9a47815",
   "metadata": {},
   "outputs": [
    {
     "data": {
      "text/plain": [
       "array([[ 3,  5,  7],\n",
       "       [10, 12, 14]])"
      ]
     },
     "execution_count": 10,
     "metadata": {},
     "output_type": "execute_result"
    }
   ],
   "source": [
    "C=A+B\n",
    "C"
   ]
  },
  {
   "cell_type": "code",
   "execution_count": 11,
   "id": "4f4118da",
   "metadata": {},
   "outputs": [
    {
     "data": {
      "text/plain": [
       "array([[ 3,  5,  7],\n",
       "       [10, 12, 14]])"
      ]
     },
     "execution_count": 11,
     "metadata": {},
     "output_type": "execute_result"
    }
   ],
   "source": [
    "np.add(A,B, dtype=int)"
   ]
  },
  {
   "cell_type": "markdown",
   "id": "b95f90c4",
   "metadata": {},
   "source": [
    "### Matrix Subtraction"
   ]
  },
  {
   "cell_type": "code",
   "execution_count": 12,
   "id": "11b0781d",
   "metadata": {},
   "outputs": [
    {
     "data": {
      "text/plain": [
       "array([[1, 1, 1],\n",
       "       [2, 2, 2]])"
      ]
     },
     "execution_count": 12,
     "metadata": {},
     "output_type": "execute_result"
    }
   ],
   "source": [
    "C1=B-A\n",
    "C1"
   ]
  },
  {
   "cell_type": "code",
   "execution_count": 13,
   "id": "4f64f0dc",
   "metadata": {},
   "outputs": [
    {
     "data": {
      "text/plain": [
       "array([[1, 1, 1],\n",
       "       [2, 2, 2]])"
      ]
     },
     "execution_count": 13,
     "metadata": {},
     "output_type": "execute_result"
    }
   ],
   "source": [
    "np.subtract(B,A,dtype=int)"
   ]
  },
  {
   "cell_type": "markdown",
   "id": "9d9c4086",
   "metadata": {},
   "source": [
    "### Matrix Multiplication (Elementwise)"
   ]
  },
  {
   "cell_type": "code",
   "execution_count": 14,
   "id": "ae51a802",
   "metadata": {},
   "outputs": [
    {
     "data": {
      "text/plain": [
       "array([[1, 2, 3],\n",
       "       [4, 5, 6]])"
      ]
     },
     "execution_count": 14,
     "metadata": {},
     "output_type": "execute_result"
    }
   ],
   "source": [
    "A"
   ]
  },
  {
   "cell_type": "code",
   "execution_count": 15,
   "id": "d464d9c1",
   "metadata": {},
   "outputs": [
    {
     "data": {
      "text/plain": [
       "array([[2, 3, 4],\n",
       "       [6, 7, 8]])"
      ]
     },
     "execution_count": 15,
     "metadata": {},
     "output_type": "execute_result"
    }
   ],
   "source": [
    "B"
   ]
  },
  {
   "cell_type": "code",
   "execution_count": 16,
   "id": "70f54da9",
   "metadata": {},
   "outputs": [
    {
     "data": {
      "text/plain": [
       "array([[ 2,  6, 12],\n",
       "       [24, 35, 48]])"
      ]
     },
     "execution_count": 16,
     "metadata": {},
     "output_type": "execute_result"
    }
   ],
   "source": [
    "C2=A*B\n",
    "C2"
   ]
  },
  {
   "cell_type": "code",
   "execution_count": 17,
   "id": "588eb5ef",
   "metadata": {},
   "outputs": [
    {
     "data": {
      "text/plain": [
       "array([[ 2,  6, 12],\n",
       "       [24, 35, 48]])"
      ]
     },
     "execution_count": 17,
     "metadata": {},
     "output_type": "execute_result"
    }
   ],
   "source": [
    "np.multiply(A,B,dtype=int)"
   ]
  },
  {
   "cell_type": "markdown",
   "id": "5e74e9c8",
   "metadata": {},
   "source": [
    "### Matrix Division (Elementwise)"
   ]
  },
  {
   "cell_type": "code",
   "execution_count": 18,
   "id": "e417607b",
   "metadata": {},
   "outputs": [
    {
     "data": {
      "text/plain": [
       "array([[0.5       , 0.66666667, 0.75      ],\n",
       "       [0.66666667, 0.71428571, 0.75      ]])"
      ]
     },
     "execution_count": 18,
     "metadata": {},
     "output_type": "execute_result"
    }
   ],
   "source": [
    "C=A/B\n",
    "C"
   ]
  },
  {
   "cell_type": "code",
   "execution_count": 19,
   "id": "18c9bfe8",
   "metadata": {},
   "outputs": [
    {
     "data": {
      "text/plain": [
       "array([[0.5       , 0.66666667, 0.75      ],\n",
       "       [0.66666667, 0.71428571, 0.75      ]])"
      ]
     },
     "execution_count": 19,
     "metadata": {},
     "output_type": "execute_result"
    }
   ],
   "source": [
    "np.divide(A,B)"
   ]
  },
  {
   "cell_type": "markdown",
   "id": "160bd42a",
   "metadata": {},
   "source": [
    "### Matrix Products"
   ]
  },
  {
   "cell_type": "code",
   "execution_count": 20,
   "id": "ed4aec6f",
   "metadata": {},
   "outputs": [
    {
     "data": {
      "text/plain": [
       "array([[1, 2, 3],\n",
       "       [4, 5, 6]])"
      ]
     },
     "execution_count": 20,
     "metadata": {},
     "output_type": "execute_result"
    }
   ],
   "source": [
    "A"
   ]
  },
  {
   "cell_type": "code",
   "execution_count": 21,
   "id": "e903b226",
   "metadata": {},
   "outputs": [
    {
     "data": {
      "text/plain": [
       "(2, 3)"
      ]
     },
     "execution_count": 21,
     "metadata": {},
     "output_type": "execute_result"
    }
   ],
   "source": [
    "A.shape"
   ]
  },
  {
   "cell_type": "code",
   "execution_count": 22,
   "id": "7710c0b0",
   "metadata": {},
   "outputs": [
    {
     "data": {
      "text/plain": [
       "array([[2, 3, 4],\n",
       "       [6, 7, 8]])"
      ]
     },
     "execution_count": 22,
     "metadata": {},
     "output_type": "execute_result"
    }
   ],
   "source": [
    "B"
   ]
  },
  {
   "cell_type": "code",
   "execution_count": 23,
   "id": "61df840e",
   "metadata": {},
   "outputs": [
    {
     "data": {
      "text/plain": [
       "(2, 3)"
      ]
     },
     "execution_count": 23,
     "metadata": {},
     "output_type": "execute_result"
    }
   ],
   "source": [
    "B.shape"
   ]
  },
  {
   "cell_type": "code",
   "execution_count": 24,
   "id": "adfbce0d",
   "metadata": {},
   "outputs": [],
   "source": [
    "## tranpose"
   ]
  },
  {
   "cell_type": "code",
   "execution_count": 25,
   "id": "214a0003",
   "metadata": {},
   "outputs": [
    {
     "data": {
      "text/plain": [
       "array([[2, 6],\n",
       "       [3, 7],\n",
       "       [4, 8]])"
      ]
     },
     "execution_count": 25,
     "metadata": {},
     "output_type": "execute_result"
    }
   ],
   "source": [
    "B.T"
   ]
  },
  {
   "cell_type": "code",
   "execution_count": 26,
   "id": "0c9bf8f4",
   "metadata": {},
   "outputs": [
    {
     "data": {
      "text/plain": [
       "(3, 2)"
      ]
     },
     "execution_count": 26,
     "metadata": {},
     "output_type": "execute_result"
    }
   ],
   "source": [
    "B.T.shape"
   ]
  },
  {
   "cell_type": "code",
   "execution_count": 27,
   "id": "9e419983",
   "metadata": {},
   "outputs": [],
   "source": [
    "## no of columns of A must be same as rows of B for matrix product"
   ]
  },
  {
   "cell_type": "code",
   "execution_count": 28,
   "id": "fd58e307",
   "metadata": {},
   "outputs": [
    {
     "data": {
      "text/plain": [
       "array([[ 20,  44],\n",
       "       [ 47, 107]])"
      ]
     },
     "execution_count": 28,
     "metadata": {},
     "output_type": "execute_result"
    }
   ],
   "source": [
    "np.matmul(A,B.T)"
   ]
  },
  {
   "cell_type": "markdown",
   "id": "41d8e318",
   "metadata": {},
   "source": [
    "### Dot Product"
   ]
  },
  {
   "cell_type": "code",
   "execution_count": 29,
   "id": "2366b3c3",
   "metadata": {},
   "outputs": [
    {
     "data": {
      "text/plain": [
       "array([[26, 31, 36],\n",
       "       [34, 41, 48],\n",
       "       [42, 51, 60]])"
      ]
     },
     "execution_count": 29,
     "metadata": {},
     "output_type": "execute_result"
    }
   ],
   "source": [
    "np.dot(A.T,B)"
   ]
  },
  {
   "cell_type": "code",
   "execution_count": 30,
   "id": "b7374219",
   "metadata": {},
   "outputs": [
    {
     "data": {
      "text/plain": [
       "array([[ 20,  44],\n",
       "       [ 47, 107]])"
      ]
     },
     "execution_count": 30,
     "metadata": {},
     "output_type": "execute_result"
    }
   ],
   "source": [
    "np.dot(A,B.T)"
   ]
  },
  {
   "cell_type": "markdown",
   "id": "421684f9",
   "metadata": {},
   "source": [
    "### np.linalg -- Linear Algebra module"
   ]
  },
  {
   "cell_type": "markdown",
   "id": "07633c41",
   "metadata": {},
   "source": [
    "- np.linalg.matrix_power(a, n)\n",
    "- Raise a square matrix to the (integer) power `n`\n"
   ]
  },
  {
   "cell_type": "code",
   "execution_count": 31,
   "id": "f6899302",
   "metadata": {},
   "outputs": [
    {
     "data": {
      "text/plain": [
       "array([[1, 2, 3],\n",
       "       [4, 5, 6],\n",
       "       [6, 7, 8]])"
      ]
     },
     "execution_count": 31,
     "metadata": {},
     "output_type": "execute_result"
    }
   ],
   "source": [
    "A=np.array([[1,2,3],[4,5,6],[6,7,8]])\n",
    "A"
   ]
  },
  {
   "cell_type": "code",
   "execution_count": 32,
   "id": "f6f6236c",
   "metadata": {},
   "outputs": [
    {
     "data": {
      "text/plain": [
       "(3, 3)"
      ]
     },
     "execution_count": 32,
     "metadata": {},
     "output_type": "execute_result"
    }
   ],
   "source": [
    "A.shape"
   ]
  },
  {
   "cell_type": "code",
   "execution_count": 33,
   "id": "4c0937ea",
   "metadata": {},
   "outputs": [
    {
     "data": {
      "text/plain": [
       "array([[ 27,  33,  39],\n",
       "       [ 60,  75,  90],\n",
       "       [ 82, 103, 124]])"
      ]
     },
     "execution_count": 33,
     "metadata": {},
     "output_type": "execute_result"
    }
   ],
   "source": [
    "np.linalg.matrix_power(A,2)  # A*A matrix product"
   ]
  },
  {
   "cell_type": "code",
   "execution_count": 34,
   "id": "d73b36a5",
   "metadata": {},
   "outputs": [
    {
     "data": {
      "text/plain": [
       "array([[ 27,  33,  39],\n",
       "       [ 60,  75,  90],\n",
       "       [ 82, 103, 124]])"
      ]
     },
     "execution_count": 34,
     "metadata": {},
     "output_type": "execute_result"
    }
   ],
   "source": [
    "np.matmul(A,A)"
   ]
  },
  {
   "cell_type": "markdown",
   "id": "69cef076",
   "metadata": {},
   "source": [
    "### np.kron()"
   ]
  },
  {
   "cell_type": "markdown",
   "id": "e13320ca",
   "metadata": {},
   "source": [
    "- Kronecker product of two arrays.\n",
    "\n",
    "- Computes the Kronecker product, a composite array made of blocks of the second array scaled by the first."
   ]
  },
  {
   "cell_type": "code",
   "execution_count": 35,
   "id": "4d2820ed",
   "metadata": {},
   "outputs": [
    {
     "data": {
      "text/plain": [
       "array([[ 2,  3,  4,  4,  6,  8,  6,  9, 12],\n",
       "       [ 6,  7,  8, 12, 14, 16, 18, 21, 24],\n",
       "       [ 8, 12, 16, 10, 15, 20, 12, 18, 24],\n",
       "       [24, 28, 32, 30, 35, 40, 36, 42, 48],\n",
       "       [12, 18, 24, 14, 21, 28, 16, 24, 32],\n",
       "       [36, 42, 48, 42, 49, 56, 48, 56, 64]])"
      ]
     },
     "execution_count": 35,
     "metadata": {},
     "output_type": "execute_result"
    }
   ],
   "source": [
    "np.kron(A,B)"
   ]
  },
  {
   "cell_type": "markdown",
   "id": "cd8e3199",
   "metadata": {},
   "source": [
    "## Matrix Decompositions"
   ]
  },
  {
   "cell_type": "markdown",
   "id": "687739f0",
   "metadata": {},
   "source": [
    "### 1) Cholesky Decomposition $$A=UU^H $$"
   ]
  },
  {
   "cell_type": "code",
   "execution_count": 36,
   "id": "64ede407",
   "metadata": {},
   "outputs": [
    {
     "data": {
      "text/plain": [
       "array([[1, 2, 3],\n",
       "       [4, 5, 6],\n",
       "       [6, 7, 8]])"
      ]
     },
     "execution_count": 36,
     "metadata": {},
     "output_type": "execute_result"
    }
   ],
   "source": [
    "A"
   ]
  },
  {
   "cell_type": "markdown",
   "id": "6e1e0de0",
   "metadata": {},
   "source": [
    "### np.linalg.cholesky(a)"
   ]
  },
  {
   "cell_type": "markdown",
   "id": "0b38b099",
   "metadata": {},
   "source": [
    "- Return the Cholesky decomposition, `L * L.H`, of the square matrix `a`,where `L` is lower-triangular and .H is the conjugate transpose operator (which is the ordinary transpose if `a` is real-valued)"
   ]
  },
  {
   "cell_type": "markdown",
   "id": "a1f38116",
   "metadata": {},
   "source": [
    "### 2) QR Decomposition $$ A=QR$$"
   ]
  },
  {
   "cell_type": "markdown",
   "id": "715d1997",
   "metadata": {},
   "source": [
    "### np.linalg.qr(a, mode='reduced')"
   ]
  },
  {
   "cell_type": "markdown",
   "id": "380d880a",
   "metadata": {},
   "source": [
    "- Compute the qr factorization of a matrix.\n",
    "\n",
    "- Factor the matrix `a` as *qr*, where `q` is orthonormal and `r` is upper-triangular."
   ]
  },
  {
   "cell_type": "code",
   "execution_count": 37,
   "id": "e9a0cfdd",
   "metadata": {},
   "outputs": [
    {
     "data": {
      "text/plain": [
       "array([[1, 2, 3],\n",
       "       [4, 5, 6],\n",
       "       [6, 7, 8]])"
      ]
     },
     "execution_count": 37,
     "metadata": {},
     "output_type": "execute_result"
    }
   ],
   "source": [
    "A"
   ]
  },
  {
   "cell_type": "code",
   "execution_count": 38,
   "id": "83703c07",
   "metadata": {},
   "outputs": [
    {
     "data": {
      "text/plain": [
       "(array([[-0.13736056,  0.93587869,  0.32444284],\n",
       "        [-0.54944226,  0.20054543, -0.81110711],\n",
       "        [-0.82416338, -0.28967674,  0.48666426]]),\n",
       " array([[-7.28010989e+00, -8.79107609e+00, -1.03020423e+01],\n",
       "        [ 0.00000000e+00,  8.46747384e-01,  1.69349477e+00],\n",
       "        [ 0.00000000e+00,  0.00000000e+00,  8.88178420e-16]]))"
      ]
     },
     "execution_count": 38,
     "metadata": {},
     "output_type": "execute_result"
    }
   ],
   "source": [
    "np.linalg.qr(A)"
   ]
  },
  {
   "cell_type": "code",
   "execution_count": 39,
   "id": "c249480a",
   "metadata": {},
   "outputs": [
    {
     "data": {
      "text/plain": [
       "array([[-0.13736056,  0.93587869,  0.32444284],\n",
       "       [-0.54944226,  0.20054543, -0.81110711],\n",
       "       [-0.82416338, -0.28967674,  0.48666426]])"
      ]
     },
     "execution_count": 39,
     "metadata": {},
     "output_type": "execute_result"
    }
   ],
   "source": [
    "Q=np.linalg.qr(A)[0]\n",
    "Q"
   ]
  },
  {
   "cell_type": "code",
   "execution_count": 40,
   "id": "35c4fd37",
   "metadata": {},
   "outputs": [
    {
     "data": {
      "text/plain": [
       "array([[-7.28010989e+00, -8.79107609e+00, -1.03020423e+01],\n",
       "       [ 0.00000000e+00,  8.46747384e-01,  1.69349477e+00],\n",
       "       [ 0.00000000e+00,  0.00000000e+00,  8.88178420e-16]])"
      ]
     },
     "execution_count": 40,
     "metadata": {},
     "output_type": "execute_result"
    }
   ],
   "source": [
    "R=np.linalg.qr(A)[1]\n",
    "R"
   ]
  },
  {
   "cell_type": "code",
   "execution_count": 41,
   "id": "8a8ed27b",
   "metadata": {},
   "outputs": [
    {
     "data": {
      "text/plain": [
       "array([[1., 2., 3.],\n",
       "       [4., 5., 6.],\n",
       "       [6., 7., 8.]])"
      ]
     },
     "execution_count": 41,
     "metadata": {},
     "output_type": "execute_result"
    }
   ],
   "source": [
    "A1=np.matmul(Q,R)\n",
    "A1"
   ]
  },
  {
   "cell_type": "markdown",
   "id": "ab9808ba",
   "metadata": {},
   "source": [
    "### 3) Eigen value decompostion (EVD)  $$ A=PDP^{-1}$$"
   ]
  },
  {
   "cell_type": "markdown",
   "id": "8172f22f",
   "metadata": {},
   "source": [
    "### np.linalg.eig(a)"
   ]
  },
  {
   "cell_type": "markdown",
   "id": "274fffba",
   "metadata": {},
   "source": [
    "- Compute the eigenvalues and right eigenvectors of a square array."
   ]
  },
  {
   "cell_type": "code",
   "execution_count": 42,
   "id": "45cb4f7b",
   "metadata": {},
   "outputs": [
    {
     "data": {
      "text/plain": [
       "(array([ 1.50000000e+01, -1.00000000e+00,  4.65763037e-17]),\n",
       " array([[ 2.49206599e-01,  8.32050294e-01,  4.08248290e-01],\n",
       "        [ 5.69615084e-01, -4.59516133e-16, -8.16496581e-01],\n",
       "        [ 7.83220740e-01, -5.54700196e-01,  4.08248290e-01]]))"
      ]
     },
     "execution_count": 42,
     "metadata": {},
     "output_type": "execute_result"
    }
   ],
   "source": [
    "np.linalg.eig(A)"
   ]
  },
  {
   "cell_type": "code",
   "execution_count": 43,
   "id": "cf1d12ae",
   "metadata": {},
   "outputs": [],
   "source": [
    "D=np.linalg.eig(A)[0]\n",
    "P=np.linalg.eig(A)[1]"
   ]
  },
  {
   "cell_type": "code",
   "execution_count": 44,
   "id": "14a4fdfb",
   "metadata": {},
   "outputs": [
    {
     "data": {
      "text/plain": [
       "array([ 1.50000000e+01, -1.00000000e+00,  4.65763037e-17])"
      ]
     },
     "execution_count": 44,
     "metadata": {},
     "output_type": "execute_result"
    }
   ],
   "source": [
    "D"
   ]
  },
  {
   "cell_type": "code",
   "execution_count": 45,
   "id": "ebf5b8be",
   "metadata": {},
   "outputs": [
    {
     "data": {
      "text/plain": [
       "array([[ 2.49206599e-01,  8.32050294e-01,  4.08248290e-01],\n",
       "       [ 5.69615084e-01, -4.59516133e-16, -8.16496581e-01],\n",
       "       [ 7.83220740e-01, -5.54700196e-01,  4.08248290e-01]])"
      ]
     },
     "execution_count": 45,
     "metadata": {},
     "output_type": "execute_result"
    }
   ],
   "source": [
    "P"
   ]
  },
  {
   "cell_type": "code",
   "execution_count": 46,
   "id": "9aa1bddd",
   "metadata": {},
   "outputs": [],
   "source": [
    "## Another method "
   ]
  },
  {
   "cell_type": "code",
   "execution_count": 47,
   "id": "3ace8a82",
   "metadata": {},
   "outputs": [],
   "source": [
    "D,P=np.linalg.eig(A)"
   ]
  },
  {
   "cell_type": "code",
   "execution_count": 48,
   "id": "bbc83fbb",
   "metadata": {},
   "outputs": [
    {
     "data": {
      "text/plain": [
       "array([ 1.50000000e+01, -1.00000000e+00,  4.65763037e-17])"
      ]
     },
     "execution_count": 48,
     "metadata": {},
     "output_type": "execute_result"
    }
   ],
   "source": [
    "D"
   ]
  },
  {
   "cell_type": "code",
   "execution_count": 49,
   "id": "087b4673",
   "metadata": {},
   "outputs": [
    {
     "data": {
      "text/plain": [
       "array([[ 2.49206599e-01,  8.32050294e-01,  4.08248290e-01],\n",
       "       [ 5.69615084e-01, -4.59516133e-16, -8.16496581e-01],\n",
       "       [ 7.83220740e-01, -5.54700196e-01,  4.08248290e-01]])"
      ]
     },
     "execution_count": 49,
     "metadata": {},
     "output_type": "execute_result"
    }
   ],
   "source": [
    "P"
   ]
  },
  {
   "cell_type": "markdown",
   "id": "9f44d95c",
   "metadata": {},
   "source": [
    "### np.diag(v, k=0)"
   ]
  },
  {
   "cell_type": "markdown",
   "id": "ddfd476a",
   "metadata": {},
   "source": [
    "- Extract a diagonal or construct a diagonal array."
   ]
  },
  {
   "cell_type": "code",
   "execution_count": 50,
   "id": "0a782f54",
   "metadata": {},
   "outputs": [
    {
     "data": {
      "text/plain": [
       "array([[ 1.50000000e+01,  0.00000000e+00,  0.00000000e+00],\n",
       "       [ 0.00000000e+00, -1.00000000e+00,  0.00000000e+00],\n",
       "       [ 0.00000000e+00,  0.00000000e+00,  4.65763037e-17]])"
      ]
     },
     "execution_count": 50,
     "metadata": {},
     "output_type": "execute_result"
    }
   ],
   "source": [
    "D=np.diag(D)\n",
    "D"
   ]
  },
  {
   "cell_type": "code",
   "execution_count": 51,
   "id": "2cc477eb",
   "metadata": {},
   "outputs": [],
   "source": [
    "## first find product of matrix P & diagonal matrix D"
   ]
  },
  {
   "cell_type": "code",
   "execution_count": 52,
   "id": "e51f1ec9",
   "metadata": {},
   "outputs": [
    {
     "data": {
      "text/plain": [
       "array([[ 3.73809899e+00, -8.32050294e-01,  1.90146964e-17],\n",
       "       [ 8.54422625e+00,  4.59516133e-16, -3.80293927e-17],\n",
       "       [ 1.17483111e+01,  5.54700196e-01,  1.90146964e-17]])"
      ]
     },
     "execution_count": 52,
     "metadata": {},
     "output_type": "execute_result"
    }
   ],
   "source": [
    "P_D=np.matmul(P,D)\n",
    "P_D"
   ]
  },
  {
   "cell_type": "code",
   "execution_count": 53,
   "id": "8e70217f",
   "metadata": {},
   "outputs": [],
   "source": [
    "## Find inverse of matrix P"
   ]
  },
  {
   "cell_type": "markdown",
   "id": "b3884960",
   "metadata": {},
   "source": [
    "### np.linalg.inv(a)"
   ]
  },
  {
   "cell_type": "markdown",
   "id": "ef3b9a22",
   "metadata": {},
   "source": [
    "- Compute the (multiplicative) inverse of a matrix."
   ]
  },
  {
   "cell_type": "code",
   "execution_count": 54,
   "id": "d2b92d37",
   "metadata": {},
   "outputs": [
    {
     "data": {
      "text/plain": [
       "array([[ 0.4681524 ,  0.5851905 ,  0.7022286 ],\n",
       "       [ 0.90138782,  0.22534695, -0.45069391],\n",
       "       [ 0.32659863, -0.81649658,  0.48989795]])"
      ]
     },
     "execution_count": 54,
     "metadata": {},
     "output_type": "execute_result"
    }
   ],
   "source": [
    "P_inverse=np.linalg.inv(P)\n",
    "P_inverse"
   ]
  },
  {
   "cell_type": "code",
   "execution_count": 55,
   "id": "00ef1736",
   "metadata": {},
   "outputs": [],
   "source": [
    "## Now find decomposition "
   ]
  },
  {
   "cell_type": "code",
   "execution_count": 56,
   "id": "8456ea9c",
   "metadata": {},
   "outputs": [
    {
     "data": {
      "text/plain": [
       "array([[1., 2., 3.],\n",
       "       [4., 5., 6.],\n",
       "       [6., 7., 8.]])"
      ]
     },
     "execution_count": 56,
     "metadata": {},
     "output_type": "execute_result"
    }
   ],
   "source": [
    "A=np.matmul(P_D,P_inverse)\n",
    "A"
   ]
  },
  {
   "cell_type": "markdown",
   "id": "5fa52e38",
   "metadata": {},
   "source": [
    "### np.linalg.eigvals(a)"
   ]
  },
  {
   "cell_type": "markdown",
   "id": "3e8177d9",
   "metadata": {},
   "source": [
    "- Compute the eigenvalues of a general matrix.\n"
   ]
  },
  {
   "cell_type": "code",
   "execution_count": 57,
   "id": "ddbafbe1",
   "metadata": {},
   "outputs": [
    {
     "data": {
      "text/plain": [
       "array([ 1.50000000e+01, -1.00000000e+00, -1.85979816e-16])"
      ]
     },
     "execution_count": 57,
     "metadata": {},
     "output_type": "execute_result"
    }
   ],
   "source": [
    "np.linalg.eigvals(A)"
   ]
  },
  {
   "cell_type": "markdown",
   "id": "b8c60fe8",
   "metadata": {},
   "source": [
    "### 4) Singular value decomposition (SVD)     $$ A=USV^T$$"
   ]
  },
  {
   "cell_type": "markdown",
   "id": "1069f5ec",
   "metadata": {},
   "source": [
    "### np.linalg.svd(a)"
   ]
  },
  {
   "cell_type": "markdown",
   "id": "3c372acc",
   "metadata": {},
   "source": [
    "- np.linalg.svd(a, full_matrices=True, compute_uv=True, hermitian=False)\n",
    "- Singular Value Decomposition."
   ]
  },
  {
   "cell_type": "code",
   "execution_count": 58,
   "id": "f057fc65",
   "metadata": {},
   "outputs": [
    {
     "data": {
      "text/plain": [
       "(array([[-0.23498172,  0.91625348,  0.32444284],\n",
       "        [-0.56747984,  0.14167532, -0.81110711],\n",
       "        [-0.78914525, -0.37471012,  0.48666426]]),\n",
       " array([1.54611193e+01, 9.76621976e-01, 6.88637940e-16]),\n",
       " array([[-0.46825669, -0.57119923, -0.67414176],\n",
       "        [-0.78362555, -0.08405223,  0.6155211 ],\n",
       "        [ 0.40824829, -0.81649658,  0.40824829]]))"
      ]
     },
     "execution_count": 58,
     "metadata": {},
     "output_type": "execute_result"
    }
   ],
   "source": [
    "np.linalg.svd(A)"
   ]
  },
  {
   "cell_type": "code",
   "execution_count": 59,
   "id": "e510b993",
   "metadata": {},
   "outputs": [],
   "source": [
    "U,S,V=np.linalg.svd(A)"
   ]
  },
  {
   "cell_type": "code",
   "execution_count": 60,
   "id": "7738507d",
   "metadata": {},
   "outputs": [
    {
     "data": {
      "text/plain": [
       "array([[-0.23498172,  0.91625348,  0.32444284],\n",
       "       [-0.56747984,  0.14167532, -0.81110711],\n",
       "       [-0.78914525, -0.37471012,  0.48666426]])"
      ]
     },
     "execution_count": 60,
     "metadata": {},
     "output_type": "execute_result"
    }
   ],
   "source": [
    "U"
   ]
  },
  {
   "cell_type": "code",
   "execution_count": 61,
   "id": "2016b85c",
   "metadata": {},
   "outputs": [
    {
     "data": {
      "text/plain": [
       "array([1.54611193e+01, 9.76621976e-01, 6.88637940e-16])"
      ]
     },
     "execution_count": 61,
     "metadata": {},
     "output_type": "execute_result"
    }
   ],
   "source": [
    "S"
   ]
  },
  {
   "cell_type": "code",
   "execution_count": 62,
   "id": "7b95741d",
   "metadata": {},
   "outputs": [
    {
     "data": {
      "text/plain": [
       "array([[-0.46825669, -0.57119923, -0.67414176],\n",
       "       [-0.78362555, -0.08405223,  0.6155211 ],\n",
       "       [ 0.40824829, -0.81649658,  0.40824829]])"
      ]
     },
     "execution_count": 62,
     "metadata": {},
     "output_type": "execute_result"
    }
   ],
   "source": [
    "V"
   ]
  },
  {
   "cell_type": "markdown",
   "id": "5608899d",
   "metadata": {},
   "source": [
    "## Matrix norms"
   ]
  },
  {
   "cell_type": "markdown",
   "id": "90366e37",
   "metadata": {},
   "source": [
    "### np.linalg.norm(x)"
   ]
  },
  {
   "cell_type": "markdown",
   "id": "d2ec0324",
   "metadata": {},
   "source": [
    "- np.linalg.norm(x, ord=None, axis=None, keepdims=False)\n",
    "- Matrix or vector norm."
   ]
  },
  {
   "cell_type": "code",
   "execution_count": 63,
   "id": "58d9e457",
   "metadata": {},
   "outputs": [
    {
     "data": {
      "text/plain": [
       "15.491933384829682"
      ]
     },
     "execution_count": 63,
     "metadata": {},
     "output_type": "execute_result"
    }
   ],
   "source": [
    "np.linalg.norm(A)"
   ]
  },
  {
   "cell_type": "markdown",
   "id": "7b35ac7f",
   "metadata": {},
   "source": [
    "### np.linalg.cond(x, p=None)"
   ]
  },
  {
   "cell_type": "markdown",
   "id": "da3cc057",
   "metadata": {},
   "source": [
    "- Compute the condition number of a matrix."
   ]
  },
  {
   "cell_type": "code",
   "execution_count": 64,
   "id": "24a4b5ba",
   "metadata": {},
   "outputs": [
    {
     "data": {
      "text/plain": [
       "2.245173897190977e+16"
      ]
     },
     "execution_count": 64,
     "metadata": {},
     "output_type": "execute_result"
    }
   ],
   "source": [
    "np.linalg.cond(A)"
   ]
  },
  {
   "cell_type": "markdown",
   "id": "944fbed7",
   "metadata": {},
   "source": [
    "### np.linalg.det(a)"
   ]
  },
  {
   "cell_type": "markdown",
   "id": "2c3a7727",
   "metadata": {},
   "source": [
    "- Compute the determinant of an array."
   ]
  },
  {
   "cell_type": "code",
   "execution_count": 65,
   "id": "64835bf7",
   "metadata": {},
   "outputs": [
    {
     "data": {
      "text/plain": [
       "0.0"
      ]
     },
     "execution_count": 65,
     "metadata": {},
     "output_type": "execute_result"
    }
   ],
   "source": [
    "np.linalg.det(A)"
   ]
  },
  {
   "cell_type": "markdown",
   "id": "5abfa837",
   "metadata": {},
   "source": [
    "### np.linalg.matrix_rank(A)"
   ]
  },
  {
   "cell_type": "markdown",
   "id": "88c13ea4",
   "metadata": {},
   "source": [
    "- np.linalg.matrix_rank(A, tol=None, hermitian=False)\n",
    "- Return matrix rank of array using SVD method"
   ]
  },
  {
   "cell_type": "code",
   "execution_count": 66,
   "id": "69e46d91",
   "metadata": {},
   "outputs": [
    {
     "data": {
      "text/plain": [
       "2"
      ]
     },
     "execution_count": 66,
     "metadata": {},
     "output_type": "execute_result"
    }
   ],
   "source": [
    "np.linalg.matrix_rank(A)"
   ]
  },
  {
   "cell_type": "markdown",
   "id": "09c83771",
   "metadata": {},
   "source": [
    "### np.trace(a)"
   ]
  },
  {
   "cell_type": "markdown",
   "id": "dffbf765",
   "metadata": {},
   "source": [
    "- np.trace(a, offset=0, axis1=0, axis2=1, dtype=None, out=None)\n",
    "- Return the sum along diagonals of the array."
   ]
  },
  {
   "cell_type": "code",
   "execution_count": 67,
   "id": "c9148a43",
   "metadata": {},
   "outputs": [
    {
     "data": {
      "text/plain": [
       "14.000000000000014"
      ]
     },
     "execution_count": 67,
     "metadata": {},
     "output_type": "execute_result"
    }
   ],
   "source": [
    "np.trace(A)"
   ]
  },
  {
   "cell_type": "markdown",
   "id": "6b9d6700",
   "metadata": {},
   "source": [
    "## Solving equations"
   ]
  },
  {
   "cell_type": "markdown",
   "id": "b0a5941d",
   "metadata": {},
   "source": [
    "$$AX=b$$"
   ]
  },
  {
   "cell_type": "code",
   "execution_count": 68,
   "id": "679bf1bb",
   "metadata": {},
   "outputs": [
    {
     "data": {
      "text/plain": [
       "array([[1, 2, 4],\n",
       "       [5, 2, 3],\n",
       "       [6, 4, 2]])"
      ]
     },
     "execution_count": 68,
     "metadata": {},
     "output_type": "execute_result"
    }
   ],
   "source": [
    "A=np.array([[1,2,4],[5,2,3],[6,4,2]])\n",
    "A"
   ]
  },
  {
   "cell_type": "code",
   "execution_count": 69,
   "id": "9b288298",
   "metadata": {},
   "outputs": [
    {
     "data": {
      "text/plain": [
       "array([[0.01596324],\n",
       "       [0.13582002],\n",
       "       [0.53336466]])"
      ]
     },
     "execution_count": 69,
     "metadata": {},
     "output_type": "execute_result"
    }
   ],
   "source": [
    "b=np.random.random((3,1))\n",
    "b"
   ]
  },
  {
   "cell_type": "code",
   "execution_count": 70,
   "id": "3c57ad72",
   "metadata": {},
   "outputs": [],
   "source": [
    "## Method 1   "
   ]
  },
  {
   "cell_type": "markdown",
   "id": "566757bc",
   "metadata": {},
   "source": [
    "$$ x=A^{-1}b$$"
   ]
  },
  {
   "cell_type": "code",
   "execution_count": 71,
   "id": "d74b29e5",
   "metadata": {},
   "outputs": [
    {
     "data": {
      "text/plain": [
       "array([[-0.2  ,  0.3  , -0.05 ],\n",
       "       [ 0.2  , -0.55 ,  0.425],\n",
       "       [ 0.2  ,  0.2  , -0.2  ]])"
      ]
     },
     "execution_count": 71,
     "metadata": {},
     "output_type": "execute_result"
    }
   ],
   "source": [
    "A_inverse=np.linalg.inv(A)\n",
    "A_inverse"
   ]
  },
  {
   "cell_type": "code",
   "execution_count": 72,
   "id": "87e5c7b9",
   "metadata": {},
   "outputs": [
    {
     "data": {
      "text/plain": [
       "array([[ 0.01088512],\n",
       "       [ 0.15517162],\n",
       "       [-0.07631628]])"
      ]
     },
     "execution_count": 72,
     "metadata": {},
     "output_type": "execute_result"
    }
   ],
   "source": [
    "x=np.matmul(A_inverse,b)\n",
    "x"
   ]
  },
  {
   "cell_type": "code",
   "execution_count": 73,
   "id": "8429c0f8",
   "metadata": {},
   "outputs": [],
   "source": [
    "## using solve function"
   ]
  },
  {
   "cell_type": "markdown",
   "id": "f5771185",
   "metadata": {},
   "source": [
    "### np.linalg.solve(a, b)"
   ]
  },
  {
   "cell_type": "markdown",
   "id": "629daf19",
   "metadata": {},
   "source": [
    "- Solve a linear matrix equation, or system of linear scalar equations."
   ]
  },
  {
   "cell_type": "code",
   "execution_count": 74,
   "id": "69a223cd",
   "metadata": {},
   "outputs": [
    {
     "data": {
      "text/plain": [
       "array([[ 0.01088512],\n",
       "       [ 0.15517162],\n",
       "       [-0.07631628]])"
      ]
     },
     "execution_count": 74,
     "metadata": {},
     "output_type": "execute_result"
    }
   ],
   "source": [
    "x=np.linalg.solve(A,b)\n",
    "x"
   ]
  }
 ],
 "metadata": {
  "kernelspec": {
   "display_name": "Python 3 (ipykernel)",
   "language": "python",
   "name": "python3"
  },
  "language_info": {
   "codemirror_mode": {
    "name": "ipython",
    "version": 3
   },
   "file_extension": ".py",
   "mimetype": "text/x-python",
   "name": "python",
   "nbconvert_exporter": "python",
   "pygments_lexer": "ipython3",
   "version": "3.10.2"
  }
 },
 "nbformat": 4,
 "nbformat_minor": 5
}
