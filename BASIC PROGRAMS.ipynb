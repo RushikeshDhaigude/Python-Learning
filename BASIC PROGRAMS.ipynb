{
 "cells": [
  {
   "cell_type": "markdown",
   "id": "16143954",
   "metadata": {},
   "source": [
    "\n",
    "### Program to check Armstrong Number"
   ]
  },
  {
   "cell_type": "code",
   "execution_count": 1,
   "id": "7c74ea75",
   "metadata": {
    "scrolled": false
   },
   "outputs": [
    {
     "name": "stdout",
     "output_type": "stream",
     "text": [
      "Enter the number:153\n"
     ]
    }
   ],
   "source": [
    "x=int(input(\"Enter the number:\"))"
   ]
  },
  {
   "cell_type": "code",
   "execution_count": 2,
   "id": "0d0cc4be",
   "metadata": {},
   "outputs": [],
   "source": [
    "num_str=str(x)\n",
    "n=len(str(x))"
   ]
  },
  {
   "cell_type": "markdown",
   "id": "e290c7dc",
   "metadata": {},
   "source": [
    "- Approch 1"
   ]
  },
  {
   "cell_type": "code",
   "execution_count": 3,
   "id": "d0c6db13",
   "metadata": {},
   "outputs": [
    {
     "name": "stdout",
     "output_type": "stream",
     "text": [
      "Armstrong number\n"
     ]
    }
   ],
   "source": [
    "sum=0\n",
    "for i in range(n):\n",
    "    sum=sum+int(num_str[i])**n\n",
    "    \n",
    "if(sum==x):\n",
    "    print(\"Armstrong number\")\n",
    "else:\n",
    "    print(\"Not a Armstrong number\")"
   ]
  },
  {
   "cell_type": "markdown",
   "id": "d1080781",
   "metadata": {},
   "source": [
    "- Approch 2"
   ]
  },
  {
   "cell_type": "code",
   "execution_count": 4,
   "id": "3f2cd552",
   "metadata": {},
   "outputs": [
    {
     "name": "stdout",
     "output_type": "stream",
     "text": [
      "Enter the number:153\n",
      "armstrong number\n"
     ]
    }
   ],
   "source": [
    "\n",
    "n=int(input(\"Enter the number:\"))\n",
    "x=n\n",
    "\n",
    "k=len(str(n))\n",
    "\n",
    "sum=0\n",
    "while(n>0):\n",
    "    r=n%10\n",
    "    sum=sum+r**k\n",
    "    n=n//10\n",
    "if(sum==x):\n",
    "    print(\"armstrong number\")\n",
    "else:\n",
    "    print(\"not a armstrong number\")\n",
    "    "
   ]
  },
  {
   "cell_type": "markdown",
   "id": "b0d45749",
   "metadata": {},
   "source": [
    "### Program to find factorial of given number"
   ]
  },
  {
   "cell_type": "markdown",
   "id": "a2a13490",
   "metadata": {},
   "source": [
    "- Using in built function"
   ]
  },
  {
   "cell_type": "code",
   "execution_count": 5,
   "id": "b73e33e2",
   "metadata": {},
   "outputs": [
    {
     "name": "stdout",
     "output_type": "stream",
     "text": [
      "Enter the number:5\n"
     ]
    }
   ],
   "source": [
    "import math\n",
    "n=int(input(\"Enter the number:\"))"
   ]
  },
  {
   "cell_type": "code",
   "execution_count": 6,
   "id": "73737294",
   "metadata": {},
   "outputs": [
    {
     "name": "stdout",
     "output_type": "stream",
     "text": [
      "120\n"
     ]
    }
   ],
   "source": [
    "fact=math.factorial(n)\n",
    "print(fact)"
   ]
  },
  {
   "cell_type": "markdown",
   "id": "eacc4fe0",
   "metadata": {},
   "source": [
    "- Using Recursive Case"
   ]
  },
  {
   "cell_type": "code",
   "execution_count": 7,
   "id": "092ee1d6",
   "metadata": {},
   "outputs": [],
   "source": [
    "def fact(n):\n",
    "    if(n==0):\n",
    "        return 1\n",
    "    else:\n",
    "        return n*fact(n-1)\n",
    "    "
   ]
  },
  {
   "cell_type": "code",
   "execution_count": 8,
   "id": "09f7ab69",
   "metadata": {},
   "outputs": [
    {
     "name": "stdout",
     "output_type": "stream",
     "text": [
      "Enter the number:5\n",
      "120\n"
     ]
    }
   ],
   "source": [
    "n=int(input(\"Enter the number:\"))\n",
    "print(fact(n))"
   ]
  },
  {
   "cell_type": "markdown",
   "id": "dcde199b",
   "metadata": {},
   "source": [
    "- Using For Loop"
   ]
  },
  {
   "cell_type": "code",
   "execution_count": 9,
   "id": "19dd4356",
   "metadata": {},
   "outputs": [
    {
     "name": "stdout",
     "output_type": "stream",
     "text": [
      "Enter the number:5\n"
     ]
    }
   ],
   "source": [
    "n=int(input(\"Enter the number:\"))"
   ]
  },
  {
   "cell_type": "code",
   "execution_count": 10,
   "id": "31167948",
   "metadata": {},
   "outputs": [
    {
     "name": "stdout",
     "output_type": "stream",
     "text": [
      "120\n"
     ]
    }
   ],
   "source": [
    "fact=1\n",
    "for i in range(n,0,-1):\n",
    "    fact=fact*i\n",
    "print(fact)"
   ]
  },
  {
   "cell_type": "markdown",
   "id": "6c9a2472",
   "metadata": {},
   "source": [
    "### Program to find fibonacci Number"
   ]
  },
  {
   "cell_type": "code",
   "execution_count": 11,
   "id": "a35c3fd6",
   "metadata": {},
   "outputs": [
    {
     "name": "stdout",
     "output_type": "stream",
     "text": [
      "Enter how many numbers u want:5\n"
     ]
    }
   ],
   "source": [
    "n=int(input(\"Enter how many numbers u want:\"))"
   ]
  },
  {
   "cell_type": "code",
   "execution_count": 12,
   "id": "dc915506",
   "metadata": {},
   "outputs": [
    {
     "name": "stdout",
     "output_type": "stream",
     "text": [
      "0 1 1 2 3 "
     ]
    }
   ],
   "source": [
    "first=0\n",
    "second=1\n",
    "for i in range(n):\n",
    "    print(first,end=\" \")\n",
    "    temp=first\n",
    "    first=second\n",
    "    second=temp+second\n",
    "    "
   ]
  },
  {
   "cell_type": "markdown",
   "id": "26baba4e",
   "metadata": {},
   "source": [
    "- Function for nth Fibonacci number"
   ]
  },
  {
   "cell_type": "code",
   "execution_count": 13,
   "id": "4028cf0f",
   "metadata": {},
   "outputs": [
    {
     "name": "stdout",
     "output_type": "stream",
     "text": [
      "Enter number:8\n",
      "13\n"
     ]
    }
   ],
   "source": [
    "def fib(n):\n",
    "    if(n==1):\n",
    "        return 0\n",
    "    elif(n==2):\n",
    "        return 1\n",
    "    else:\n",
    "        return fib(n-1)+fib(n-2)\n",
    "\n",
    "n=int(input(\"Enter number:\"))\n",
    "print(fib(n))\n",
    "            "
   ]
  },
  {
   "cell_type": "markdown",
   "id": "4b1b6d35",
   "metadata": {},
   "source": [
    "### Program to find prime numbers"
   ]
  },
  {
   "cell_type": "code",
   "execution_count": 14,
   "id": "474a2caf",
   "metadata": {
    "scrolled": true
   },
   "outputs": [
    {
     "name": "stdout",
     "output_type": "stream",
     "text": [
      "Enter the lower interval:10\n",
      "Enter the upper interval:100\n"
     ]
    }
   ],
   "source": [
    "lower=int(input(\"Enter the lower interval:\"))\n",
    "upper=int(input(\"Enter the upper interval:\"))"
   ]
  },
  {
   "cell_type": "code",
   "execution_count": 15,
   "id": "9b17f079",
   "metadata": {},
   "outputs": [
    {
     "name": "stdout",
     "output_type": "stream",
     "text": [
      "11\n",
      "13\n",
      "17\n",
      "19\n",
      "23\n",
      "29\n",
      "31\n",
      "37\n",
      "41\n",
      "43\n",
      "47\n",
      "53\n",
      "59\n",
      "61\n",
      "67\n",
      "71\n",
      "73\n",
      "79\n",
      "83\n",
      "89\n",
      "97\n"
     ]
    }
   ],
   "source": [
    "for x in range(lower,upper+1):\n",
    "    if(x>1):\n",
    "        for i in range(2,x):\n",
    "            if(x%i==0):\n",
    "                break\n",
    "        else:\n",
    "            print(x)\n",
    "    "
   ]
  },
  {
   "cell_type": "markdown",
   "id": "1c295b90",
   "metadata": {},
   "source": [
    "### Program to find perfect numbers"
   ]
  },
  {
   "cell_type": "code",
   "execution_count": 16,
   "id": "c239699e",
   "metadata": {},
   "outputs": [
    {
     "name": "stdout",
     "output_type": "stream",
     "text": [
      "Enter the number:6\n"
     ]
    }
   ],
   "source": [
    "n=int(input(\"Enter the number:\"))"
   ]
  },
  {
   "cell_type": "code",
   "execution_count": 17,
   "id": "865113a4",
   "metadata": {},
   "outputs": [
    {
     "name": "stdout",
     "output_type": "stream",
     "text": [
      "1 2 3 perfect number\n"
     ]
    }
   ],
   "source": [
    "sum=0\n",
    "for i in range(1,n):\n",
    "    if(n%i==0):\n",
    "        print(i,end=\" \")\n",
    "        sum=sum+i\n",
    "if(sum==n):\n",
    "       print(\"perfect number\")\n",
    "else:\n",
    "       print(\"not perfect number\")"
   ]
  },
  {
   "cell_type": "markdown",
   "id": "1f82ab92",
   "metadata": {},
   "source": [
    "- Perfect numbers in given interval"
   ]
  },
  {
   "cell_type": "code",
   "execution_count": 18,
   "id": "f70501bb",
   "metadata": {},
   "outputs": [
    {
     "name": "stdout",
     "output_type": "stream",
     "text": [
      "Enter the lower interval:2\n",
      "Enter the upper interval:50\n"
     ]
    }
   ],
   "source": [
    "lower=int(input(\"Enter the lower interval:\"))\n",
    "upper=int(input(\"Enter the upper interval:\"))"
   ]
  },
  {
   "cell_type": "code",
   "execution_count": 19,
   "id": "6d5e8fb9",
   "metadata": {},
   "outputs": [
    {
     "name": "stdout",
     "output_type": "stream",
     "text": [
      "6\n",
      "28\n"
     ]
    }
   ],
   "source": [
    "for x in range(lower,upper+1):\n",
    "    sum=0\n",
    "    for i in range(1,x):\n",
    "        if(x%i==0):\n",
    "            sum=sum+i\n",
    "            \n",
    "    if(sum==x):\n",
    "        print(x)\n",
    "\n",
    "    "
   ]
  },
  {
   "cell_type": "markdown",
   "id": "a8a3aca9",
   "metadata": {},
   "source": [
    "### Program to swap two numbers"
   ]
  },
  {
   "cell_type": "markdown",
   "id": "db3becf9",
   "metadata": {},
   "source": [
    "- Using third variable"
   ]
  },
  {
   "cell_type": "code",
   "execution_count": 20,
   "id": "cb68162e",
   "metadata": {},
   "outputs": [
    {
     "name": "stdout",
     "output_type": "stream",
     "text": [
      "Enter the value for a:10\n",
      "Enter the value for b:34\n"
     ]
    }
   ],
   "source": [
    "a=int(input(\"Enter the value for a:\"))\n",
    "b=int(input(\"Enter the value for b:\"))"
   ]
  },
  {
   "cell_type": "code",
   "execution_count": 21,
   "id": "75660b0e",
   "metadata": {},
   "outputs": [
    {
     "name": "stdout",
     "output_type": "stream",
     "text": [
      "a=34 and b=10\n"
     ]
    }
   ],
   "source": [
    "x=a\n",
    "a=b\n",
    "b=x\n",
    "print(\"a={} and b={}\".format(a,b))"
   ]
  },
  {
   "cell_type": "markdown",
   "id": "2b77a987",
   "metadata": {},
   "source": [
    "### Program to reverse string"
   ]
  },
  {
   "cell_type": "code",
   "execution_count": 22,
   "id": "6d1daeca",
   "metadata": {},
   "outputs": [
    {
     "name": "stdout",
     "output_type": "stream",
     "text": [
      "enter the string:rama\n"
     ]
    }
   ],
   "source": [
    "string=input(\"enter the string:\")"
   ]
  },
  {
   "cell_type": "code",
   "execution_count": 23,
   "id": "486a06a2",
   "metadata": {},
   "outputs": [
    {
     "name": "stdout",
     "output_type": "stream",
     "text": [
      "ama\n"
     ]
    }
   ],
   "source": [
    "rev_str=string[len(string)-1:0:-1]\n",
    "print(rev_str)"
   ]
  },
  {
   "cell_type": "code",
   "execution_count": 24,
   "id": "7239ee55",
   "metadata": {},
   "outputs": [
    {
     "name": "stdout",
     "output_type": "stream",
     "text": [
      "amar\n"
     ]
    }
   ],
   "source": [
    "rev_str=string[len(string)-1::-1]\n",
    "print(rev_str)"
   ]
  },
  {
   "cell_type": "markdown",
   "id": "a564a1c8",
   "metadata": {},
   "source": [
    "### Selection Sort Algorithm"
   ]
  },
  {
   "cell_type": "code",
   "execution_count": 25,
   "id": "68a049ad",
   "metadata": {},
   "outputs": [
    {
     "name": "stdout",
     "output_type": "stream",
     "text": [
      "[56, 3, 2, 78, 6, 0]\n",
      "0\n",
      "5\n"
     ]
    }
   ],
   "source": [
    "list1=[56,3,2,78,6,0]\n",
    "print(list1)\n",
    "min_value=min(list1)\n",
    "print(min_value)\n",
    "min_ind=list1.index(min_value)\n",
    "print(min_ind)"
   ]
  },
  {
   "cell_type": "code",
   "execution_count": 26,
   "id": "ecd5f929",
   "metadata": {},
   "outputs": [],
   "source": [
    "list1[0],list1[min_ind]=list1[min_ind],list1[0]  # swapping the two numbers"
   ]
  },
  {
   "cell_type": "code",
   "execution_count": 27,
   "id": "eeadee75",
   "metadata": {},
   "outputs": [
    {
     "name": "stdout",
     "output_type": "stream",
     "text": [
      "[0, 3, 2, 78, 6, 56]\n"
     ]
    }
   ],
   "source": [
    "print(list1)"
   ]
  },
  {
   "cell_type": "markdown",
   "id": "412a60e2",
   "metadata": {},
   "source": [
    "- Using for loop"
   ]
  },
  {
   "cell_type": "markdown",
   "id": "6d66f215",
   "metadata": {},
   "source": [
    "#### Ascending Order"
   ]
  },
  {
   "cell_type": "code",
   "execution_count": 28,
   "id": "c67b6f77",
   "metadata": {},
   "outputs": [
    {
     "name": "stdout",
     "output_type": "stream",
     "text": [
      "[0, 2, 3, 6, 56, 78]\n"
     ]
    }
   ],
   "source": [
    "for i in range(len(list1)):\n",
    "    min_value=min(list1[i:])\n",
    "    min_ind=list1.index(min_value)\n",
    "    list1[i],list1[min_ind]=list1[min_ind],list1[i]\n",
    "print(list1)\n",
    "    "
   ]
  },
  {
   "cell_type": "markdown",
   "id": "b717b41b",
   "metadata": {},
   "source": [
    "#### Descening Order"
   ]
  },
  {
   "cell_type": "code",
   "execution_count": 29,
   "id": "72df9a6b",
   "metadata": {},
   "outputs": [
    {
     "name": "stdout",
     "output_type": "stream",
     "text": [
      "[78, 56, 6, 3, 2, 0]\n"
     ]
    }
   ],
   "source": [
    "for i in range(len(list1)):\n",
    "    max_value=max(list1[i:])\n",
    "    max_ind=list1.index(max_value)\n",
    "    list1[i],list1[max_ind]=list1[max_ind],list1[i]\n",
    "print(list1)"
   ]
  },
  {
   "cell_type": "markdown",
   "id": "8b99aa1e",
   "metadata": {},
   "source": [
    "- Repeating Values"
   ]
  },
  {
   "cell_type": "code",
   "execution_count": 30,
   "id": "29d0c4b9",
   "metadata": {},
   "outputs": [
    {
     "name": "stdout",
     "output_type": "stream",
     "text": [
      "[4, 7, 12, 23, 23, 34]\n"
     ]
    }
   ],
   "source": [
    "list2=[34,23,4,7,23,12]\n",
    "for i in range(len(list2)):\n",
    "    min_value=min(list2[i:])\n",
    "    min_ind=list2.index(min_value,i)\n",
    "    list2[i],list2[min_ind]=list2[min_ind],list2[i]\n",
    "print(list2)"
   ]
  },
  {
   "cell_type": "markdown",
   "id": "45b6f121",
   "metadata": {},
   "source": [
    "### Bubble Sort Algorithm"
   ]
  },
  {
   "cell_type": "code",
   "execution_count": 31,
   "id": "affb40ab",
   "metadata": {},
   "outputs": [
    {
     "name": "stdout",
     "output_type": "stream",
     "text": [
      "unsorted list: [10, 15, 4, 23, 0]\n",
      "iteration: 1\n",
      "iteration: 1\n",
      "[10, 4, 15, 0, 23]\n",
      "iteration: 2\n",
      "iteration: 2\n",
      "[4, 10, 0, 15, 23]\n",
      "iteration: 3\n",
      "[4, 0, 10, 15, 23]\n",
      "iteration: 4\n",
      "[0, 4, 10, 15, 23]\n"
     ]
    }
   ],
   "source": [
    "list1=[10,15,4,23,0]\n",
    "print(\"unsorted list:\",list1)\n",
    "for x in range(len(list1)-1):\n",
    "    for i in range(len(list1)-1):\n",
    "        if(list1[i]>list1[i+1]):\n",
    "            list1[i],list1[i+1]=list1[i+1],list1[i]\n",
    "            print(\"iteration:\",x+1)\n",
    "        else:\n",
    "            continue\n",
    "    print(list1)"
   ]
  },
  {
   "cell_type": "markdown",
   "id": "451aa936",
   "metadata": {},
   "source": [
    "### Program to check whether string is palindrome"
   ]
  },
  {
   "cell_type": "code",
   "execution_count": 32,
   "id": "8ddb9b2f",
   "metadata": {},
   "outputs": [
    {
     "name": "stdout",
     "output_type": "stream",
     "text": [
      "aba\n"
     ]
    }
   ],
   "source": [
    "string=input()"
   ]
  },
  {
   "cell_type": "code",
   "execution_count": 33,
   "id": "d2b68d6b",
   "metadata": {},
   "outputs": [
    {
     "name": "stdout",
     "output_type": "stream",
     "text": [
      "aba\n"
     ]
    }
   ],
   "source": [
    "rev_string=string[len(string)-1::-1]\n",
    "print(rev_string)\n"
   ]
  },
  {
   "cell_type": "code",
   "execution_count": 34,
   "id": "3798d70c",
   "metadata": {},
   "outputs": [
    {
     "name": "stdout",
     "output_type": "stream",
     "text": [
      "panlindrome:\n"
     ]
    }
   ],
   "source": [
    "if(string==rev_string):\n",
    "    print(\"panlindrome:\")\n",
    "else:\n",
    "    print(\"not a panlindrome:\")"
   ]
  },
  {
   "cell_type": "markdown",
   "id": "9f6010b6",
   "metadata": {},
   "source": [
    "### Program to count vowels in string"
   ]
  },
  {
   "cell_type": "code",
   "execution_count": 35,
   "id": "471e9048",
   "metadata": {},
   "outputs": [
    {
     "name": "stdout",
     "output_type": "stream",
     "text": [
      "ramesh\n",
      "ramesh\n"
     ]
    }
   ],
   "source": [
    "string=input()\n",
    "string=string.lower()\n",
    "print(string)"
   ]
  },
  {
   "cell_type": "code",
   "execution_count": 36,
   "id": "ba103db1",
   "metadata": {},
   "outputs": [
    {
     "name": "stdout",
     "output_type": "stream",
     "text": [
      "2\n"
     ]
    }
   ],
   "source": [
    "count=0\n",
    "list1=[\"a\",\"e\",\"i\",\"o\",\"u\"]\n",
    "for char in string:\n",
    "    if char in list1:\n",
    "        count=count+1\n",
    "print(count)\n",
    "        "
   ]
  },
  {
   "cell_type": "markdown",
   "id": "5288e51a",
   "metadata": {},
   "source": [
    "### Program to check strings Anagram or not"
   ]
  },
  {
   "cell_type": "code",
   "execution_count": 37,
   "id": "060b1579",
   "metadata": {},
   "outputs": [
    {
     "name": "stdout",
     "output_type": "stream",
     "text": [
      "aba\n",
      "baa\n"
     ]
    }
   ],
   "source": [
    "string1=input()\n",
    "string2=input()\n",
    "s1=sorted(string1)\n",
    "s2=sorted(string2)"
   ]
  },
  {
   "cell_type": "code",
   "execution_count": 38,
   "id": "6ae02090",
   "metadata": {},
   "outputs": [
    {
     "name": "stdout",
     "output_type": "stream",
     "text": [
      "['a', 'a', 'b']\n",
      "['a', 'a', 'b']\n"
     ]
    }
   ],
   "source": [
    "print(\"{}\\n{}\".format(s1,s2))"
   ]
  },
  {
   "cell_type": "code",
   "execution_count": 39,
   "id": "da07f714",
   "metadata": {},
   "outputs": [
    {
     "name": "stdout",
     "output_type": "stream",
     "text": [
      "Anagrams\n"
     ]
    }
   ],
   "source": [
    "if(s1==s2):\n",
    "    print(\"Anagrams\")\n",
    "else:\n",
    "    (\"Not Anagrams\")"
   ]
  },
  {
   "cell_type": "markdown",
   "id": "4d8e9158",
   "metadata": {},
   "source": [
    "### Program to find sum of squares of first n natural numbers"
   ]
  },
  {
   "cell_type": "markdown",
   "id": "1f9c5ee6",
   "metadata": {},
   "source": [
    "- Using for loop"
   ]
  },
  {
   "cell_type": "code",
   "execution_count": 40,
   "id": "a3bc4ce7",
   "metadata": {},
   "outputs": [
    {
     "name": "stdout",
     "output_type": "stream",
     "text": [
      "enter number:5\n",
      "15\n"
     ]
    }
   ],
   "source": [
    "n=int(input(\"enter number:\"))\n",
    "sum=0\n",
    "for i in range(1,n+1):\n",
    "    sum=sum+i\n",
    "print(sum)"
   ]
  },
  {
   "cell_type": "markdown",
   "id": "582ea07e",
   "metadata": {},
   "source": [
    "- Using Recursion"
   ]
  },
  {
   "cell_type": "code",
   "execution_count": 41,
   "id": "3ac52cda",
   "metadata": {},
   "outputs": [
    {
     "name": "stdout",
     "output_type": "stream",
     "text": [
      "enter the number:6\n",
      "21\n"
     ]
    }
   ],
   "source": [
    "def sum(n):\n",
    "    if(n==1):\n",
    "        return 1\n",
    "    else:\n",
    "        return sum(n-1)+n\n",
    "n=int(input(\"enter the number:\"))\n",
    "print(sum(n))"
   ]
  }
 ],
 "metadata": {
  "kernelspec": {
   "display_name": "Python 3 (ipykernel)",
   "language": "python",
   "name": "python3"
  },
  "language_info": {
   "codemirror_mode": {
    "name": "ipython",
    "version": 3
   },
   "file_extension": ".py",
   "mimetype": "text/x-python",
   "name": "python",
   "nbconvert_exporter": "python",
   "pygments_lexer": "ipython3",
   "version": "3.10.2"
  }
 },
 "nbformat": 4,
 "nbformat_minor": 5
}
