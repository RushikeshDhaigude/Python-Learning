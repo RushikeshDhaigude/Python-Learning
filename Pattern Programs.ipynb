{
 "cells": [
  {
   "cell_type": "markdown",
   "id": "cfa0172b",
   "metadata": {},
   "source": [
    "## *** Pattern Programs ***"
   ]
  },
  {
   "cell_type": "markdown",
   "id": "a681a163",
   "metadata": {},
   "source": [
    "### RIGHT ANGLED TRIANGLE"
   ]
  },
  {
   "cell_type": "code",
   "execution_count": 1,
   "id": "bd551c50",
   "metadata": {
    "scrolled": true
   },
   "outputs": [
    {
     "name": "stdout",
     "output_type": "stream",
     "text": [
      "10\n"
     ]
    }
   ],
   "source": [
    "side=int(input())\n",
    "c='*'"
   ]
  },
  {
   "cell_type": "code",
   "execution_count": 2,
   "id": "c5e4b72f",
   "metadata": {},
   "outputs": [
    {
     "name": "stdout",
     "output_type": "stream",
     "text": [
      "*         \n",
      "**        \n",
      "***       \n",
      "****      \n",
      "*****     \n",
      "******    \n",
      "*******   \n",
      "********  \n",
      "********* \n",
      "**********\n"
     ]
    }
   ],
   "source": [
    "for i in range(1,side+1):\n",
    "    print((c*i).ljust(side))"
   ]
  },
  {
   "cell_type": "markdown",
   "id": "4e523af3",
   "metadata": {},
   "source": [
    "### INVERTED TRIANGLE"
   ]
  },
  {
   "cell_type": "code",
   "execution_count": 3,
   "id": "46e06fbc",
   "metadata": {},
   "outputs": [
    {
     "name": "stdout",
     "output_type": "stream",
     "text": [
      "10\n",
      "**********\n",
      "********* \n",
      "********  \n",
      "*******   \n",
      "******    \n",
      "*****     \n",
      "****      \n",
      "***       \n",
      "**        \n",
      "*         \n",
      "          \n"
     ]
    }
   ],
   "source": [
    "\n",
    "side=int(input())\n",
    "c='*'\n",
    "\n",
    "for i in range(side,-1,-1):\n",
    "    print((c*i).ljust(side))"
   ]
  },
  {
   "cell_type": "markdown",
   "id": "3a3c5103",
   "metadata": {},
   "source": [
    "### Isosceles Triangle Pattern\n"
   ]
  },
  {
   "cell_type": "code",
   "execution_count": 4,
   "id": "443262ca",
   "metadata": {},
   "outputs": [
    {
     "name": "stdout",
     "output_type": "stream",
     "text": [
      "10\n",
      "          *          \n",
      "         ***         \n",
      "        *****        \n",
      "       *******       \n",
      "      *********      \n",
      "     ***********     \n",
      "    *************    \n",
      "   ***************   \n",
      "  *****************  \n",
      " ******************* \n"
     ]
    }
   ],
   "source": [
    "side = int(input()) \n",
    "c = '*' \n",
    "for i in range(side):\n",
    "    print((c*i).rjust(side)+c+(c*i).ljust(side))\n",
    " "
   ]
  },
  {
   "cell_type": "markdown",
   "id": "f1d42202",
   "metadata": {},
   "source": [
    "### Inverted Isosceles Triangle Pattern"
   ]
  },
  {
   "cell_type": "code",
   "execution_count": 5,
   "id": "d561ffd7",
   "metadata": {},
   "outputs": [
    {
     "name": "stdout",
     "output_type": "stream",
     "text": [
      "10\n",
      " ******************* \n",
      "  *****************  \n",
      "   ***************   \n",
      "    *************    \n",
      "     ***********     \n",
      "      *********      \n",
      "       *******       \n",
      "        *****        \n",
      "         ***         \n",
      "          *          \n"
     ]
    }
   ],
   "source": [
    " \n",
    "side = int(input()) \n",
    "c = '*'\n",
    "for i in range(side-1,-1,-1):\n",
    "    print((c*i).rjust(side)+c+(c*i).ljust(side))"
   ]
  },
  {
   "cell_type": "markdown",
   "id": "77e1169d",
   "metadata": {},
   "source": [
    "### Rectangle Pattern"
   ]
  },
  {
   "cell_type": "code",
   "execution_count": 6,
   "id": "be6e48a1",
   "metadata": {},
   "outputs": [
    {
     "name": "stdout",
     "output_type": "stream",
     "text": [
      "10\n",
      "**********\n",
      "**********\n",
      "**********\n",
      "**********\n",
      "**********\n",
      "**********\n",
      "**********\n",
      "**********\n",
      "**********\n",
      "**********\n"
     ]
    }
   ],
   "source": [
    "side = int(input()) \n",
    "c = '*'\n",
    "for i in range(1,side+1):\n",
    "    print((c*side).center(side))\n",
    "    "
   ]
  },
  {
   "cell_type": "code",
   "execution_count": 7,
   "id": "04bb0797",
   "metadata": {},
   "outputs": [
    {
     "name": "stdout",
     "output_type": "stream",
     "text": [
      "                                        **********\n",
      "                                        **********\n",
      "                                        **********\n",
      "                                        **********\n",
      "                                        **********\n",
      "                                        **********\n",
      "                                        **********\n",
      "                                        **********\n",
      "                                        **********\n",
      "                                        **********\n"
     ]
    }
   ],
   "source": [
    "for i in range(1,side+1):\n",
    "    print((c*side).center(side).rjust(side*5))"
   ]
  },
  {
   "cell_type": "code",
   "execution_count": null,
   "id": "5b66cfbf",
   "metadata": {},
   "outputs": [],
   "source": []
  }
 ],
 "metadata": {
  "kernelspec": {
   "display_name": "Python 3 (ipykernel)",
   "language": "python",
   "name": "python3"
  },
  "language_info": {
   "codemirror_mode": {
    "name": "ipython",
    "version": 3
   },
   "file_extension": ".py",
   "mimetype": "text/x-python",
   "name": "python",
   "nbconvert_exporter": "python",
   "pygments_lexer": "ipython3",
   "version": "3.10.2"
  }
 },
 "nbformat": 4,
 "nbformat_minor": 5
}
